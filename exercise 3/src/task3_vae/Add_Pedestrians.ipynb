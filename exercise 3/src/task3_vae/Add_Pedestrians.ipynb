{
 "cells": [
  {
   "cell_type": "markdown",
   "id": "670ab2f0",
   "metadata": {},
   "source": [
    "### Task 3: Adding a Pedestrian in the \"Corner Scenario\"\n",
    "\n",
    "This notebook can be used to add a pedestrian in the corner of the \"corner scenario\" defined in the RiMEA guideline<sup>1</sup>. The scenario file, which can be used by the simulation software Vadere<sup>2</sup>, should already exist and contain all information stated in the guideline.\n",
    "Note: In general, this notebook can be used to add a pedestrian to any scenario."
   ]
  },
  {
   "cell_type": "code",
   "execution_count": null,
   "id": "0ba0c9f3",
   "metadata": {},
   "outputs": [],
   "source": [
    "# Imports\n",
    "from JSON_utils import *\n",
    "from scenario_modification import *\n",
    "import os\n",
    "import numpy as np"
   ]
  },
  {
   "cell_type": "markdown",
   "id": "dce550f1",
   "metadata": {},
   "source": [
    "Some values need to be entered manually. They are the following:\n",
    "1. The path to the scenario file.\n",
    "2. The path to the file the new scenario is stored. If none is entered, the scenario will be stored in the same folder as the original scenario file. Additionally, \"_modified\" will be added to the file name. Note that the output file will be overwritten if it already exists.\n",
    "3. The coordinates of the pedestrian's starting position\n",
    "4. A pair of coordinates inside the target the pedestrian should reach. It is required to determine the target's ID. The function determining the IDs requires a list of coordinates to be able to search for a set of targets.\n",
    "\n",
    "The default values are chosen that they work with the scenario used in task 1 and the template's folder structure."
   ]
  },
  {
   "cell_type": "code",
   "execution_count": null,
   "id": "5c5f478d",
   "metadata": {},
   "outputs": [],
   "source": [
    "scenario_file = \"./scenarios/MI.scenario\"\n",
    "output_file = None\n",
    "pedestrian_coordinates_array = np.loadtxt(\"pedestrian_pos.txt\")\n",
    "pedestrian_coordinates = [tuple(pair) for pair in pedestrian_coordinates_array]\n",
    "target_coordinates = [(183.5, 103.5)]"
   ]
  },
  {
   "cell_type": "markdown",
   "id": "6c06e6c7",
   "metadata": {},
   "source": [
    "In the next cell, some information is gathered which is necessary to create a pedestrian. This inludes:\n",
    "1. The ID of the target they try to reach.\n",
    "2. The ID that will be assigned to the pedestrian.\n",
    "3. The attributes of pedestrians. They should apply to the new pedestrian as well.\n",
    "4. The seed that will be used to randomly sample the pedestrian's speed."
   ]
  },
  {
   "cell_type": "code",
   "execution_count": null,
   "id": "114b2626",
   "metadata": {},
   "outputs": [],
   "source": [
    "# Parse the scenario file\n",
    "scenario = parse_json(scenario_file)\n",
    "\n",
    "# Retrieve the ID of the target\n",
    "targets = get_targets(scenario)\n",
    "target_id = find_target_at_position(targets, target_coordinates)\n",
    "\n",
    "if not target_id:\n",
    "    print(\"No target areas including the coordinates were found. Please check the coordinates and scenario.\")"
   ]
  },
  {
   "cell_type": "markdown",
   "id": "16df703f",
   "metadata": {},
   "source": [
    "Now, the pedestrian can be created. Therefore, it is verified that the pedestrian will be placed inside the simulation area and not inside an obstacle."
   ]
  },
  {
   "cell_type": "code",
   "execution_count": null,
   "id": "195c4616",
   "metadata": {},
   "outputs": [],
   "source": [
    "pedestrians = []\n",
    "count = 0\n",
    "for pedestrian_coordinate in pedestrian_coordinates:\n",
    "    if verify_coordinates(scenario, pedestrian_coordinate):\n",
    "        # Determine the pedestrian's ID\n",
    "        pedestrian_id = get_next_free_id(scenario)\n",
    "        \n",
    "        # Retrieve pedestrians' attributes.\n",
    "        attributes = get_attributes(scenario)\n",
    "        \n",
    "        # Retrieve the seed.\n",
    "        seed = get_seed(scenario)\n",
    "        \n",
    "        pedestrian = create_pedestrian(pedestrian_coordinate, pedestrian_id, target_id, attributes, seed)\n",
    "        pedestrians.append(pedestrian)\n",
    "    else:\n",
    "        count += 1\n",
    "        print(\"The coordinates at which the pedestrian should be placed are either out of bounds or blocked by an obstacle.\")\n",
    "        print(\"Please check the coordinates and the scenario.\")\n",
    "\n",
    "print(f\"A total of {count} pedestrians could not be placed.\")"
   ]
  },
  {
   "cell_type": "markdown",
   "id": "5564e75f",
   "metadata": {},
   "source": [
    "Finally, the pedestrian can be added to the simulation. Before converting the scenario back to a JSON file, the name needs to be changed. Otherwise, this will cause problems in the Vadere GUI."
   ]
  },
  {
   "cell_type": "code",
   "execution_count": null,
   "id": "2b2342e3",
   "metadata": {},
   "outputs": [],
   "source": [
    "for pedestrian in pedestrians:\n",
    "    scenario = add_pedestrian(pedestrian, scenario)\n",
    "\n",
    "# Requires Python 3.9 or newer\n",
    "if not output_file:\n",
    "    output_file = scenario_file.removesuffix(\".scenario\") + \"_modified.scenario\"\n",
    "    new_name = None\n",
    "else:\n",
    "    new_name = output_file.split(\"/\")[-1].removesuffix(\".scenario\")\n",
    "    \n",
    "scenario = adjust_name(new_name, scenario)\n",
    "\n",
    "# Convert to JSON file\n",
    "write_json(output_file, scenario)"
   ]
  },
  {
   "cell_type": "markdown",
   "id": "1f92993a",
   "metadata": {},
   "source": [
    "We can now use the updated scenario file to run the simulation. Instead of executing the next cell, of course, one could also use the GUI to execute the adapted scenario. The default location of Vadere's jar file and the output directory is coherent with the templates structure and must be adjusted if a different folder structure is used."
   ]
  },
  {
   "cell_type": "code",
   "execution_count": null,
   "id": "445bc44b",
   "metadata": {},
   "outputs": [],
   "source": [
    "vadere = \"../vadere/VadereSimulator/target/vadere-console.jar\"\n",
    "output_dir = \"../vadere/Scenarios/output\"\n",
    "_ = os.system(\"java -jar \" + vadere + \" scenario-run --scenario-file \" + output_file + \" --output-dir \" + output_dir)"
   ]
  },
  {
   "cell_type": "markdown",
   "id": "91825f89",
   "metadata": {},
   "source": [
    "### References\n",
    "[1] [https://rimea.de/wp-content/uploads/2016/06/rimea_richtlinie_3-0-0_-_d-e.pdf](https://rimea.de/wp-content/uploads/2016/06/rimea_richtlinie_3-0-0_-_d-e.pdf)<br>\n",
    "[2] [https://www.vadere.org/](https://www.vadere.org/)"
   ]
  }
 ],
 "metadata": {
  "kernelspec": {
   "display_name": "Python 3 (ipykernel)",
   "language": "python",
   "name": "python3"
  },
  "language_info": {
   "codemirror_mode": {
    "name": "ipython",
    "version": 3
   },
   "file_extension": ".py",
   "mimetype": "text/x-python",
   "name": "python",
   "nbconvert_exporter": "python",
   "pygments_lexer": "ipython3",
   "version": "3.11.5"
  }
 },
 "nbformat": 4,
 "nbformat_minor": 5
}
