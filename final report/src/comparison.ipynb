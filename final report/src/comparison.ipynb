{
 "cells": [
  {
   "cell_type": "code",
   "execution_count": 1,
   "metadata": {},
   "outputs": [],
   "source": [
    "import pandas as pd\n",
    "import numpy as np\n",
    "import os\n",
    "from utils import *\n",
    "from model import *"
   ]
  },
  {
   "cell_type": "code",
   "execution_count": 14,
   "metadata": {},
   "outputs": [
    {
     "data": {
      "text/html": [
       "<div>\n",
       "<style scoped>\n",
       "    .dataframe tbody tr th:only-of-type {\n",
       "        vertical-align: middle;\n",
       "    }\n",
       "\n",
       "    .dataframe tbody tr th {\n",
       "        vertical-align: top;\n",
       "    }\n",
       "\n",
       "    .dataframe thead th {\n",
       "        text-align: right;\n",
       "    }\n",
       "</style>\n",
       "<table border=\"1\" class=\"dataframe\">\n",
       "  <thead>\n",
       "    <tr style=\"text-align: right;\">\n",
       "      <th></th>\n",
       "      <th>R/R</th>\n",
       "      <th>B/B</th>\n",
       "      <th>R/B</th>\n",
       "      <th>B/R</th>\n",
       "      <th>R+B/R</th>\n",
       "      <th>R+B/B</th>\n",
       "      <th>R+B/R+B</th>\n",
       "    </tr>\n",
       "  </thead>\n",
       "  <tbody>\n",
       "    <tr>\n",
       "      <th>0</th>\n",
       "      <td>0.048238</td>\n",
       "      <td>0.051452</td>\n",
       "      <td>0.115744</td>\n",
       "      <td>0.111674</td>\n",
       "      <td>0.051804</td>\n",
       "      <td>0.087866</td>\n",
       "      <td>0.060282</td>\n",
       "    </tr>\n",
       "  </tbody>\n",
       "</table>\n",
       "</div>"
      ],
      "text/plain": [
       "        R/R       B/B       R/B       B/R     R+B/R     R+B/B   R+B/R+B\n",
       "0  0.048238  0.051452  0.115744  0.111674  0.051804  0.087866  0.060282"
      ]
     },
     "execution_count": 14,
     "metadata": {},
     "output_type": "execute_result"
    }
   ],
   "source": [
    "weidmann_MSE = pd.read_csv('../outputs/weidmann_MSE.csv')\n",
    "weidmann_MSE"
   ]
  },
  {
   "cell_type": "code",
   "execution_count": 17,
   "metadata": {},
   "outputs": [
    {
     "data": {
      "text/html": [
       "<div>\n",
       "<style scoped>\n",
       "    .dataframe tbody tr th:only-of-type {\n",
       "        vertical-align: middle;\n",
       "    }\n",
       "\n",
       "    .dataframe tbody tr th {\n",
       "        vertical-align: top;\n",
       "    }\n",
       "\n",
       "    .dataframe thead th {\n",
       "        text-align: right;\n",
       "    }\n",
       "</style>\n",
       "<table border=\"1\" class=\"dataframe\">\n",
       "  <thead>\n",
       "    <tr style=\"text-align: right;\">\n",
       "      <th></th>\n",
       "      <th>R/R</th>\n",
       "      <th>B/B</th>\n",
       "      <th>R/B</th>\n",
       "      <th>B/R</th>\n",
       "      <th>R+B/R</th>\n",
       "      <th>R+B/B</th>\n",
       "      <th>R+B/R+B</th>\n",
       "    </tr>\n",
       "  </thead>\n",
       "  <tbody>\n",
       "    <tr>\n",
       "      <th>0</th>\n",
       "      <td>0.053457</td>\n",
       "      <td>0.117762</td>\n",
       "      <td>0.144198</td>\n",
       "      <td>0.202824</td>\n",
       "      <td>0.069283</td>\n",
       "      <td>0.105300</td>\n",
       "      <td>0.061245</td>\n",
       "    </tr>\n",
       "    <tr>\n",
       "      <th>1</th>\n",
       "      <td>0.045371</td>\n",
       "      <td>0.079147</td>\n",
       "      <td>0.137904</td>\n",
       "      <td>0.169716</td>\n",
       "      <td>0.053979</td>\n",
       "      <td>0.104022</td>\n",
       "      <td>0.056821</td>\n",
       "    </tr>\n",
       "    <tr>\n",
       "      <th>2</th>\n",
       "      <td>0.042784</td>\n",
       "      <td>0.065813</td>\n",
       "      <td>0.132698</td>\n",
       "      <td>0.159508</td>\n",
       "      <td>0.051111</td>\n",
       "      <td>0.095546</td>\n",
       "      <td>0.054128</td>\n",
       "    </tr>\n",
       "    <tr>\n",
       "      <th>3</th>\n",
       "      <td>0.042066</td>\n",
       "      <td>0.058507</td>\n",
       "      <td>0.128537</td>\n",
       "      <td>0.153107</td>\n",
       "      <td>0.047186</td>\n",
       "      <td>0.089704</td>\n",
       "      <td>0.053479</td>\n",
       "    </tr>\n",
       "    <tr>\n",
       "      <th>4</th>\n",
       "      <td>0.041110</td>\n",
       "      <td>0.053431</td>\n",
       "      <td>0.130148</td>\n",
       "      <td>0.152352</td>\n",
       "      <td>0.045597</td>\n",
       "      <td>0.082235</td>\n",
       "      <td>0.050580</td>\n",
       "    </tr>\n",
       "    <tr>\n",
       "      <th>5</th>\n",
       "      <td>0.040052</td>\n",
       "      <td>0.049649</td>\n",
       "      <td>0.134100</td>\n",
       "      <td>0.153499</td>\n",
       "      <td>0.042932</td>\n",
       "      <td>0.084563</td>\n",
       "      <td>0.049395</td>\n",
       "    </tr>\n",
       "    <tr>\n",
       "      <th>6</th>\n",
       "      <td>0.039313</td>\n",
       "      <td>0.046838</td>\n",
       "      <td>0.134936</td>\n",
       "      <td>0.155146</td>\n",
       "      <td>0.041485</td>\n",
       "      <td>0.081118</td>\n",
       "      <td>0.045488</td>\n",
       "    </tr>\n",
       "    <tr>\n",
       "      <th>7</th>\n",
       "      <td>0.039079</td>\n",
       "      <td>0.044888</td>\n",
       "      <td>0.123453</td>\n",
       "      <td>0.156067</td>\n",
       "      <td>0.036570</td>\n",
       "      <td>0.074897</td>\n",
       "      <td>0.047003</td>\n",
       "    </tr>\n",
       "    <tr>\n",
       "      <th>8</th>\n",
       "      <td>0.038607</td>\n",
       "      <td>0.043397</td>\n",
       "      <td>0.120475</td>\n",
       "      <td>0.156049</td>\n",
       "      <td>0.035812</td>\n",
       "      <td>0.073298</td>\n",
       "      <td>0.045361</td>\n",
       "    </tr>\n",
       "    <tr>\n",
       "      <th>9</th>\n",
       "      <td>0.037503</td>\n",
       "      <td>0.042052</td>\n",
       "      <td>0.125017</td>\n",
       "      <td>0.157635</td>\n",
       "      <td>0.035773</td>\n",
       "      <td>0.073499</td>\n",
       "      <td>0.043919</td>\n",
       "    </tr>\n",
       "    <tr>\n",
       "      <th>10</th>\n",
       "      <td>0.035990</td>\n",
       "      <td>0.041690</td>\n",
       "      <td>0.124825</td>\n",
       "      <td>0.170323</td>\n",
       "      <td>0.037184</td>\n",
       "      <td>0.060983</td>\n",
       "      <td>0.040356</td>\n",
       "    </tr>\n",
       "    <tr>\n",
       "      <th>11</th>\n",
       "      <td>0.035867</td>\n",
       "      <td>0.041543</td>\n",
       "      <td>0.122557</td>\n",
       "      <td>0.171248</td>\n",
       "      <td>0.037213</td>\n",
       "      <td>0.060181</td>\n",
       "      <td>0.040205</td>\n",
       "    </tr>\n",
       "    <tr>\n",
       "      <th>12</th>\n",
       "      <td>0.035738</td>\n",
       "      <td>0.041392</td>\n",
       "      <td>0.121034</td>\n",
       "      <td>0.171854</td>\n",
       "      <td>0.037236</td>\n",
       "      <td>0.059880</td>\n",
       "      <td>0.040122</td>\n",
       "    </tr>\n",
       "    <tr>\n",
       "      <th>13</th>\n",
       "      <td>0.035634</td>\n",
       "      <td>0.041229</td>\n",
       "      <td>0.120403</td>\n",
       "      <td>0.172337</td>\n",
       "      <td>0.037177</td>\n",
       "      <td>0.059676</td>\n",
       "      <td>0.040037</td>\n",
       "    </tr>\n",
       "    <tr>\n",
       "      <th>14</th>\n",
       "      <td>0.035540</td>\n",
       "      <td>0.041062</td>\n",
       "      <td>0.120089</td>\n",
       "      <td>0.172428</td>\n",
       "      <td>0.037137</td>\n",
       "      <td>0.059413</td>\n",
       "      <td>0.039955</td>\n",
       "    </tr>\n",
       "    <tr>\n",
       "      <th>15</th>\n",
       "      <td>0.035448</td>\n",
       "      <td>0.040891</td>\n",
       "      <td>0.119892</td>\n",
       "      <td>0.172408</td>\n",
       "      <td>0.037107</td>\n",
       "      <td>0.059212</td>\n",
       "      <td>0.039889</td>\n",
       "    </tr>\n",
       "    <tr>\n",
       "      <th>16</th>\n",
       "      <td>0.035362</td>\n",
       "      <td>0.040713</td>\n",
       "      <td>0.119445</td>\n",
       "      <td>0.172195</td>\n",
       "      <td>0.037135</td>\n",
       "      <td>0.059013</td>\n",
       "      <td>0.039817</td>\n",
       "    </tr>\n",
       "    <tr>\n",
       "      <th>17</th>\n",
       "      <td>0.035279</td>\n",
       "      <td>0.040537</td>\n",
       "      <td>0.119224</td>\n",
       "      <td>0.171830</td>\n",
       "      <td>0.037177</td>\n",
       "      <td>0.058767</td>\n",
       "      <td>0.039759</td>\n",
       "    </tr>\n",
       "    <tr>\n",
       "      <th>18</th>\n",
       "      <td>0.035199</td>\n",
       "      <td>0.040359</td>\n",
       "      <td>0.118976</td>\n",
       "      <td>0.171331</td>\n",
       "      <td>0.037141</td>\n",
       "      <td>0.058664</td>\n",
       "      <td>0.039709</td>\n",
       "    </tr>\n",
       "    <tr>\n",
       "      <th>19</th>\n",
       "      <td>0.035140</td>\n",
       "      <td>0.040177</td>\n",
       "      <td>0.119032</td>\n",
       "      <td>0.171002</td>\n",
       "      <td>0.037162</td>\n",
       "      <td>0.058518</td>\n",
       "      <td>0.039651</td>\n",
       "    </tr>\n",
       "  </tbody>\n",
       "</table>\n",
       "</div>"
      ],
      "text/plain": [
       "         R/R       B/B       R/B       B/R     R+B/R     R+B/B   R+B/R+B\n",
       "0   0.053457  0.117762  0.144198  0.202824  0.069283  0.105300  0.061245\n",
       "1   0.045371  0.079147  0.137904  0.169716  0.053979  0.104022  0.056821\n",
       "2   0.042784  0.065813  0.132698  0.159508  0.051111  0.095546  0.054128\n",
       "3   0.042066  0.058507  0.128537  0.153107  0.047186  0.089704  0.053479\n",
       "4   0.041110  0.053431  0.130148  0.152352  0.045597  0.082235  0.050580\n",
       "5   0.040052  0.049649  0.134100  0.153499  0.042932  0.084563  0.049395\n",
       "6   0.039313  0.046838  0.134936  0.155146  0.041485  0.081118  0.045488\n",
       "7   0.039079  0.044888  0.123453  0.156067  0.036570  0.074897  0.047003\n",
       "8   0.038607  0.043397  0.120475  0.156049  0.035812  0.073298  0.045361\n",
       "9   0.037503  0.042052  0.125017  0.157635  0.035773  0.073499  0.043919\n",
       "10  0.035990  0.041690  0.124825  0.170323  0.037184  0.060983  0.040356\n",
       "11  0.035867  0.041543  0.122557  0.171248  0.037213  0.060181  0.040205\n",
       "12  0.035738  0.041392  0.121034  0.171854  0.037236  0.059880  0.040122\n",
       "13  0.035634  0.041229  0.120403  0.172337  0.037177  0.059676  0.040037\n",
       "14  0.035540  0.041062  0.120089  0.172428  0.037137  0.059413  0.039955\n",
       "15  0.035448  0.040891  0.119892  0.172408  0.037107  0.059212  0.039889\n",
       "16  0.035362  0.040713  0.119445  0.172195  0.037135  0.059013  0.039817\n",
       "17  0.035279  0.040537  0.119224  0.171830  0.037177  0.058767  0.039759\n",
       "18  0.035199  0.040359  0.118976  0.171331  0.037141  0.058664  0.039709\n",
       "19  0.035140  0.040177  0.119032  0.171002  0.037162  0.058518  0.039651"
      ]
     },
     "execution_count": 17,
     "metadata": {},
     "output_type": "execute_result"
    }
   ],
   "source": [
    "ANN_MSE = pd.read_csv('../outputs/test_losses_wrt_datasets.csv')\n",
    "ANN_MSE"
   ]
  },
  {
   "cell_type": "code",
   "execution_count": 18,
   "metadata": {},
   "outputs": [
    {
     "data": {
      "text/plain": [
       "R/R        0.035140\n",
       "B/B        0.040177\n",
       "R/B        0.118976\n",
       "B/R        0.152352\n",
       "R+B/R      0.035773\n",
       "R+B/B      0.058518\n",
       "R+B/R+B    0.039651\n",
       "dtype: float64"
      ]
     },
     "execution_count": 18,
     "metadata": {},
     "output_type": "execute_result"
    }
   ],
   "source": [
    "ANN_MSE_min = ANN_MSE.min()\n",
    "ANN_MSE_min"
   ]
  },
  {
   "cell_type": "code",
   "execution_count": 19,
   "metadata": {},
   "outputs": [],
   "source": [
    "combination_name = ['R/R', 'B/B', 'R/B', 'B/R', 'R+B/R', 'R+B/B', 'R+B/R+B']"
   ]
  },
  {
   "cell_type": "code",
   "execution_count": 25,
   "metadata": {},
   "outputs": [
    {
     "data": {
      "image/png": "[encoded data removed]",
      "text/plain": [
       "<Figure size 800x600 with 1 Axes>"
      ]
     },
     "metadata": {},
     "output_type": "display_data"
    }
   ],
   "source": [
    "plt.figure(figsize=(8, 6))\n",
    "plt.plot(combination_name, ANN_MSE_min, label='ANN model')\n",
    "plt.plot(combination_name, weidmann_MSE.transpose(), label='Weidmann model')\n",
    "\n",
    "plt.title('Test errors of ANN and Weidmann model w.r.t different combinations of datasets')\n",
    "plt.xlabel('Combinations of datasets')\n",
    "plt.ylabel('MSE')\n",
    "plt.legend()\n",
    "plt.grid(True)\n",
    "plt.tight_layout()\n",
    "\n",
    "plt.show()"
   ]
  },
  {
   "cell_type": "code",
   "execution_count": null,
   "metadata": {},
   "outputs": [
    {
     "data": {
      "text/plain": [
       "array([0.04823818, 0.05145242, 0.11574411, 0.11167395, 0.05180423,\n",
       "       0.08786608, 0.06028244])"
      ]
     },
     "metadata": {},
     "output_type": "display_data"
    }
   ],
   "source": [
    "np.array(weidmann_MSE)"
   ]
  },
  {
   "cell_type": "code",
   "execution_count": null,
   "metadata": {},
   "outputs": [
    {
     "data": {
      "text/plain": [
       "array([0.04823818, 0.05145242, 0.11574411, 0.11167395, 0.05180423,\n",
       "       0.08786608, 0.06028244])"
      ]
     },
     "metadata": {},
     "output_type": "display_data"
    }
   ],
   "source": [
    "np.array(weidmann_MSE)"
   ]
  }
 ],
 "metadata": {
  "kernelspec": {
   "display_name": "MLCMS",
   "language": "python",
   "name": "mlcms"
  },
  "language_info": {
   "codemirror_mode": {
    "name": "ipython",
    "version": 3
   },
   "file_extension": ".py",
   "mimetype": "text/x-python",
   "name": "python",
   "nbconvert_exporter": "python",
   "pygments_lexer": "ipython3",
   "version": "3.11.9"
  }
 },
 "nbformat": 4,
 "nbformat_minor": 2
}
