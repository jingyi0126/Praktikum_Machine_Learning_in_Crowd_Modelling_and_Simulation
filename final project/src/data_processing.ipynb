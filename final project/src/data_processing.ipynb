{
 "cells": [
  {
   "cell_type": "code",
   "execution_count": 9,
   "metadata": {},
   "outputs": [],
   "source": [
    "\n",
    "from utils import *\n",
    "import numpy as np\n",
    "import pandas as pd\n",
    "from sklearn.model_selection import train_test_split\n"
   ]
  },
  {
   "cell_type": "markdown",
   "metadata": {},
   "source": [
    "## 1. Generate the data with target (speed) and features ($\\overline{s}_K$ and coordinates of 10 nearest neighbors)"
   ]
  },
  {
   "cell_type": "markdown",
   "metadata": {},
   "source": [
    "### Dataloading"
   ]
  },
  {
   "cell_type": "code",
   "execution_count": 3,
   "metadata": {},
   "outputs": [],
   "source": [
    "# Load 4 bottleneck datasets\n",
    "bottleneck_070 = load_data(\"Bottleneck_Data\", \"uo-180-070\")\n",
    "bottleneck_095 = load_data(\"Bottleneck_Data\",\"uo-180-095\")\n",
    "bottleneck_120 = load_data(\"Bottleneck_Data\",\"uo-180-120\")\n",
    "bottleneck_180 = load_data(\"Bottleneck_Data\",\"uo-180-180\")\n",
    "\n",
    "# Load 8 corridor datasets\n",
    "corridor_015 = load_data(\"Corridor_Data\",\"ug-180-015\")\n",
    "corridor_030 = load_data(\"Corridor_Data\",\"ug-180-030\")\n",
    "corridor_060 = load_data(\"Corridor_Data\",\"ug-180-060\")\n",
    "corridor_085 = load_data(\"Corridor_Data\",\"ug-180-085\")\n",
    "corridor_095 = load_data(\"Corridor_Data\",\"ug-180-095\")\n",
    "corridor_110 = load_data(\"Corridor_Data\",\"ug-180-110\")\n",
    "corridor_140 = load_data(\"Corridor_Data\",\"ug-180-140\")\n",
    "corridor_230 = load_data(\"Corridor_Data\",\"ug-180-230\")"
   ]
  },
  {
   "cell_type": "markdown",
   "metadata": {},
   "source": [
    "### Data Generating"
   ]
  },
  {
   "cell_type": "code",
   "execution_count": 4,
   "metadata": {},
   "outputs": [],
   "source": [
    "# Calculate the speed by difference method\n",
    "\n",
    "# B stands for bottleneck.\n",
    "B_070_speed = add_speed(bottleneck_070)\n",
    "B_095_speed = add_speed(bottleneck_095)\n",
    "B_120_speed = add_speed(bottleneck_120)\n",
    "B_180_speed = add_speed(bottleneck_180)\n",
    "\n",
    "# The corridor is a ring, so it's named after R.\n",
    "R_015_speed = add_speed(corridor_015)\n",
    "R_030_speed = add_speed(corridor_030)\n",
    "R_060_speed = add_speed(corridor_060)\n",
    "R_085_speed = add_speed(corridor_085)\n",
    "R_095_speed = add_speed(corridor_095)\n",
    "R_110_speed = add_speed(corridor_110)\n",
    "R_140_speed = add_speed(corridor_140)\n",
    "R_230_speed = add_speed(corridor_230)"
   ]
  },
  {
   "cell_type": "code",
   "execution_count": 5,
   "metadata": {},
   "outputs": [
    {
     "data": {
      "text/html": [
       "<div>\n",
       "<style scoped>\n",
       "    .dataframe tbody tr th:only-of-type {\n",
       "        vertical-align: middle;\n",
       "    }\n",
       "\n",
       "    .dataframe tbody tr th {\n",
       "        vertical-align: top;\n",
       "    }\n",
       "\n",
       "    .dataframe thead th {\n",
       "        text-align: right;\n",
       "    }\n",
       "</style>\n",
       "<table border=\"1\" class=\"dataframe\">\n",
       "  <thead>\n",
       "    <tr style=\"text-align: right;\">\n",
       "      <th></th>\n",
       "      <th>ID</th>\n",
       "      <th>FRAME</th>\n",
       "      <th>X</th>\n",
       "      <th>Y</th>\n",
       "      <th>speed</th>\n",
       "    </tr>\n",
       "  </thead>\n",
       "  <tbody>\n",
       "    <tr>\n",
       "      <th>0</th>\n",
       "      <td>1</td>\n",
       "      <td>219</td>\n",
       "      <td>130.771</td>\n",
       "      <td>772.562</td>\n",
       "      <td>2.318080</td>\n",
       "    </tr>\n",
       "    <tr>\n",
       "      <th>1</th>\n",
       "      <td>1</td>\n",
       "      <td>220</td>\n",
       "      <td>132.569</td>\n",
       "      <td>758.186</td>\n",
       "      <td>2.318080</td>\n",
       "    </tr>\n",
       "    <tr>\n",
       "      <th>2</th>\n",
       "      <td>1</td>\n",
       "      <td>221</td>\n",
       "      <td>134.659</td>\n",
       "      <td>745.493</td>\n",
       "      <td>2.058227</td>\n",
       "    </tr>\n",
       "    <tr>\n",
       "      <th>3</th>\n",
       "      <td>1</td>\n",
       "      <td>222</td>\n",
       "      <td>134.878</td>\n",
       "      <td>734.659</td>\n",
       "      <td>1.733794</td>\n",
       "    </tr>\n",
       "    <tr>\n",
       "      <th>4</th>\n",
       "      <td>1</td>\n",
       "      <td>223</td>\n",
       "      <td>133.482</td>\n",
       "      <td>724.252</td>\n",
       "      <td>1.680034</td>\n",
       "    </tr>\n",
       "    <tr>\n",
       "      <th>...</th>\n",
       "      <td>...</td>\n",
       "      <td>...</td>\n",
       "      <td>...</td>\n",
       "      <td>...</td>\n",
       "      <td>...</td>\n",
       "    </tr>\n",
       "    <tr>\n",
       "      <th>75330</th>\n",
       "      <td>148</td>\n",
       "      <td>1581</td>\n",
       "      <td>132.408</td>\n",
       "      <td>-572.917</td>\n",
       "      <td>1.439601</td>\n",
       "    </tr>\n",
       "    <tr>\n",
       "      <th>75331</th>\n",
       "      <td>148</td>\n",
       "      <td>1582</td>\n",
       "      <td>133.420</td>\n",
       "      <td>-582.078</td>\n",
       "      <td>1.474676</td>\n",
       "    </tr>\n",
       "    <tr>\n",
       "      <th>75332</th>\n",
       "      <td>148</td>\n",
       "      <td>1583</td>\n",
       "      <td>133.959</td>\n",
       "      <td>-590.682</td>\n",
       "      <td>1.379339</td>\n",
       "    </tr>\n",
       "    <tr>\n",
       "      <th>75333</th>\n",
       "      <td>148</td>\n",
       "      <td>1584</td>\n",
       "      <td>134.090</td>\n",
       "      <td>-598.287</td>\n",
       "      <td>1.216981</td>\n",
       "    </tr>\n",
       "    <tr>\n",
       "      <th>75334</th>\n",
       "      <td>148</td>\n",
       "      <td>1585</td>\n",
       "      <td>134.090</td>\n",
       "      <td>-605.003</td>\n",
       "      <td>1.074560</td>\n",
       "    </tr>\n",
       "  </tbody>\n",
       "</table>\n",
       "<p>75335 rows × 5 columns</p>\n",
       "</div>"
      ],
      "text/plain": [
       "        ID  FRAME        X        Y     speed\n",
       "0        1    219  130.771  772.562  2.318080\n",
       "1        1    220  132.569  758.186  2.318080\n",
       "2        1    221  134.659  745.493  2.058227\n",
       "3        1    222  134.878  734.659  1.733794\n",
       "4        1    223  133.482  724.252  1.680034\n",
       "...    ...    ...      ...      ...       ...\n",
       "75330  148   1581  132.408 -572.917  1.439601\n",
       "75331  148   1582  133.420 -582.078  1.474676\n",
       "75332  148   1583  133.959 -590.682  1.379339\n",
       "75333  148   1584  134.090 -598.287  1.216981\n",
       "75334  148   1585  134.090 -605.003  1.074560\n",
       "\n",
       "[75335 rows x 5 columns]"
      ]
     },
     "execution_count": 5,
     "metadata": {},
     "output_type": "execute_result"
    }
   ],
   "source": [
    "# example\n",
    "B_070_speed"
   ]
  },
  {
   "cell_type": "code",
   "execution_count": 6,
   "metadata": {},
   "outputs": [
    {
     "ename": "ValueError",
     "evalue": "need at least one array to concatenate",
     "output_type": "error",
     "traceback": [
      "\u001b[1;31m---------------------------------------------------------------------------\u001b[0m",
      "\u001b[1;31mValueError\u001b[0m                                Traceback (most recent call last)",
      "Cell \u001b[1;32mIn[6], line 2\u001b[0m\n\u001b[0;32m      1\u001b[0m \u001b[38;5;66;03m# In this dataset, the number of neighbors is always less than 10. It will be discarded.\u001b[39;00m\n\u001b[1;32m----> 2\u001b[0m R_015 \u001b[38;5;241m=\u001b[39m generate_data(R_015_speed)\n",
      "File \u001b[1;32md:\\Projects\\Jupyter\\MLCMS\\mlcms-final-main\\final project\\src\\utils.py:97\u001b[0m, in \u001b[0;36mgenerate_data\u001b[1;34m(df_with_speed, K)\u001b[0m\n\u001b[0;32m     93\u001b[0m     features \u001b[38;5;241m=\u001b[39m np\u001b[38;5;241m.\u001b[39mconcatenate((sk\u001b[38;5;241m.\u001b[39mreshape(\u001b[38;5;241m-\u001b[39m\u001b[38;5;241m1\u001b[39m, \u001b[38;5;241m1\u001b[39m), flattened_diffs), axis\u001b[38;5;241m=\u001b[39m\u001b[38;5;241m1\u001b[39m)\n\u001b[0;32m     94\u001b[0m     frame_samples\u001b[38;5;241m.\u001b[39mappend(np\u001b[38;5;241m.\u001b[39mconcatenate(\n\u001b[0;32m     95\u001b[0m         (features, frame[[\u001b[38;5;124m'\u001b[39m\u001b[38;5;124mspeed\u001b[39m\u001b[38;5;124m'\u001b[39m]]\u001b[38;5;241m.\u001b[39mvalues), axis\u001b[38;5;241m=\u001b[39m\u001b[38;5;241m1\u001b[39m))\n\u001b[1;32m---> 97\u001b[0m frame_samples \u001b[38;5;241m=\u001b[39m np\u001b[38;5;241m.\u001b[39mvstack(frame_samples)\n\u001b[0;32m     99\u001b[0m \u001b[38;5;28mprint\u001b[39m(\u001b[38;5;124m\"\u001b[39m\u001b[38;5;124mThe shape of the dataset (containing features and targets) is \u001b[39m\u001b[38;5;124m\"\u001b[39m,\n\u001b[0;32m    100\u001b[0m       frame_samples\u001b[38;5;241m.\u001b[39mshape, \u001b[38;5;124m\"\u001b[39m\u001b[38;5;124m.\u001b[39m\u001b[38;5;124m\"\u001b[39m)\n\u001b[0;32m    101\u001b[0m \u001b[38;5;66;03m# it has 22 columns.(sk, features(20 columns: The x,y coordinate differences with 10 neighbors), speed)\u001b[39;00m\n",
      "File \u001b[1;32m~\\AppData\\Roaming\\Python\\Python311\\site-packages\\numpy\\core\\shape_base.py:289\u001b[0m, in \u001b[0;36mvstack\u001b[1;34m(tup, dtype, casting)\u001b[0m\n\u001b[0;32m    287\u001b[0m \u001b[38;5;28;01mif\u001b[39;00m \u001b[38;5;129;01mnot\u001b[39;00m \u001b[38;5;28misinstance\u001b[39m(arrs, \u001b[38;5;28mlist\u001b[39m):\n\u001b[0;32m    288\u001b[0m     arrs \u001b[38;5;241m=\u001b[39m [arrs]\n\u001b[1;32m--> 289\u001b[0m \u001b[38;5;28;01mreturn\u001b[39;00m _nx\u001b[38;5;241m.\u001b[39mconcatenate(arrs, \u001b[38;5;241m0\u001b[39m, dtype\u001b[38;5;241m=\u001b[39mdtype, casting\u001b[38;5;241m=\u001b[39mcasting)\n",
      "\u001b[1;31mValueError\u001b[0m: need at least one array to concatenate"
     ]
    }
   ],
   "source": [
    "# In this dataset, the number of neighbors is always less than 10. It will be discarded.\n",
    "# R_015 = generate_data(R_015_speed)"
   ]
  },
  {
   "cell_type": "code",
   "execution_count": 7,
   "metadata": {},
   "outputs": [
    {
     "name": "stdout",
     "output_type": "stream",
     "text": [
      "The shape of the dataset (containing features and targets) is  (74461, 22) .\n",
      "The shape of the dataset (containing features and targets) is  (71682, 22) .\n",
      "The shape of the dataset (containing features and targets) is  (54292, 22) .\n",
      "The shape of the dataset (containing features and targets) is  (50903, 22) .\n",
      "The shape of the dataset (containing features and targets) is  (11160, 22) .\n",
      "The shape of the dataset (containing features and targets) is  (38620, 22) .\n",
      "The shape of the dataset (containing features and targets) is  (53098, 22) .\n",
      "The shape of the dataset (containing features and targets) is  (152072, 22) .\n",
      "The shape of the dataset (containing features and targets) is  (113126, 22) .\n",
      "The shape of the dataset (containing features and targets) is  (246617, 22) .\n",
      "The shape of the dataset (containing features and targets) is  (203029, 22) .\n"
     ]
    }
   ],
   "source": [
    "# Generate the data for training and testing\n",
    "\n",
    "B_070 = generate_data(B_070_speed)\n",
    "B_095 = generate_data(B_095_speed)\n",
    "B_120 = generate_data(B_120_speed)\n",
    "B_180 = generate_data(B_180_speed)\n",
    "\n",
    "R_030 = generate_data(R_030_speed)\n",
    "R_060 = generate_data(R_060_speed)\n",
    "R_085 = generate_data(R_085_speed)\n",
    "R_095 = generate_data(R_095_speed)\n",
    "R_110 = generate_data(R_110_speed)\n",
    "R_140 = generate_data(R_140_speed)\n",
    "R_230 = generate_data(R_230_speed)"
   ]
  },
  {
   "cell_type": "code",
   "execution_count": 8,
   "metadata": {},
   "outputs": [
    {
     "data": {
      "text/plain": [
       "(array([[ 4.42924892e+02, -3.44820000e+01,  1.87905000e+02, ...,\n",
       "          1.06440000e+02,  6.13636000e+02,  1.61242480e+00],\n",
       "        [ 2.33938664e+02, -6.39146000e+01,  9.16570000e+01, ...,\n",
       "          2.85910000e+01,  3.51322000e+02,  1.54424670e+00],\n",
       "        [ 2.84922238e+02,  1.12331000e+02,  7.44090000e+01, ...,\n",
       "          1.40922000e+02,  4.25731000e+02,  1.75549167e+00],\n",
       "        ...,\n",
       "        [ 1.77242017e+02,  4.91553000e+01,  4.15140000e+01, ...,\n",
       "          1.82490600e+02, -3.48997000e+02,  6.87244058e-01],\n",
       "        [ 2.13447505e+02, -5.05753000e+01, -1.84820000e+01, ...,\n",
       "          8.27600000e+01, -4.08993000e+02,  6.00618774e-01],\n",
       "        [ 1.34248556e+02,  4.11666000e+01,  2.94250000e+01, ...,\n",
       "          1.42584600e+02, -2.19237000e+02,  8.69087049e-01]]),\n",
       " (54292, 22))"
      ]
     },
     "execution_count": 8,
     "metadata": {},
     "output_type": "execute_result"
    }
   ],
   "source": [
    "# example\n",
    "B_120, B_120.shape"
   ]
  },
  {
   "cell_type": "code",
   "execution_count": 9,
   "metadata": {},
   "outputs": [
    {
     "data": {
      "text/plain": [
       "(array([[ 1.23161376e+02,  4.96312600e+01, -4.23871000e+01, ...,\n",
       "          9.77401600e+01, -1.38354400e+02,  1.25690566e-02],\n",
       "        [ 8.87130328e+01, -3.43075000e+01, -3.36562000e+01, ...,\n",
       "          1.38014000e+01, -1.29623500e+02,  2.26189584e-02],\n",
       "        [ 9.45078455e+01,  3.75800000e+00, -3.24495000e+01, ...,\n",
       "         -1.39273160e+02,  1.98039000e+01,  3.34547106e-02],\n",
       "        ...,\n",
       "        [ 1.72466762e+02, -5.85712000e+01,  4.03910000e+01, ...,\n",
       "          1.14371000e+02, -3.09413000e+02,  6.46219777e-01],\n",
       "        [ 2.14974691e+02,  5.85712000e+01, -4.03910000e+01, ...,\n",
       "          1.72942200e+02, -3.49804000e+02,  1.01256444e+00],\n",
       "        [ 2.36756214e+02, -6.19752000e+01, -4.43890000e+01, ...,\n",
       "          1.10967000e+02, -3.94193000e+02,  8.61863818e-01]]),\n",
       " (203029, 22))"
      ]
     },
     "execution_count": 9,
     "metadata": {},
     "output_type": "execute_result"
    }
   ],
   "source": [
    "R_230, R_230.shape"
   ]
  },
  {
   "cell_type": "markdown",
   "metadata": {},
   "source": [
    "### Save the processed data"
   ]
  },
  {
   "cell_type": "code",
   "execution_count": null,
   "metadata": {},
   "outputs": [],
   "source": [
    "np.savetxt(\"../processed_data/B_070.csv\", B_070, delimiter=\",\")\n",
    "np.savetxt(\"../processed_data/B_095.csv\", B_095, delimiter=\",\")\n",
    "np.savetxt(\"../processed_data/B_120.csv\", B_120, delimiter=\",\")\n",
    "np.savetxt(\"../processed_data/B_180.csv\", B_180, delimiter=\",\")\n",
    "\n",
    "np.savetxt(\"../processed_data/R_030.csv\", R_030, delimiter=\",\")\n",
    "np.savetxt(\"../processed_data/R_060.csv\", R_060, delimiter=\",\")\n",
    "np.savetxt(\"../processed_data/R_085.csv\", R_085, delimiter=\",\")\n",
    "np.savetxt(\"../processed_data/R_095.csv\", R_095, delimiter=\",\")\n",
    "np.savetxt(\"../processed_data/R_110.csv\", R_110, delimiter=\",\")\n",
    "np.savetxt(\"../processed_data/R_140.csv\", R_140, delimiter=\",\")\n",
    "np.savetxt(\"../processed_data/R_230.csv\", R_230, delimiter=\",\")"
   ]
  },
  {
   "cell_type": "markdown",
   "metadata": {},
   "source": [
    "## 2. Generate the dataset for training and testing"
   ]
  },
  {
   "cell_type": "code",
   "execution_count": 6,
   "metadata": {},
   "outputs": [],
   "source": [
    "dataset_B = pd.read_csv(\"../processed_data/B_120.csv\", header=None)\n",
    "dataset_R = pd.read_csv(\"../processed_data/R_230.csv\", header=None)"
   ]
  },
  {
   "cell_type": "code",
   "execution_count": 10,
   "metadata": {},
   "outputs": [],
   "source": [
    "# Splitting dataset_B with shuffle\n",
    "train_B, test_B = train_test_split(dataset_B, test_size=0.5, random_state=42, shuffle=True)\n",
    "\n",
    "# Splitting dataset_R with shuffle\n",
    "train_R, test_R = train_test_split(dataset_R, test_size=0.5, random_state=42, shuffle=True)"
   ]
  },
  {
   "cell_type": "code",
   "execution_count": 11,
   "metadata": {},
   "outputs": [],
   "source": [
    "train_B.to_csv('../processed_data/train_B.csv', index=False)\n",
    "test_B.to_csv('../processed_data/test_B.csv', index=False)\n",
    "train_R.to_csv('../processed_data/train_R.csv', index=False)\n",
    "test_R.to_csv('../processed_data/test_R.csv', index=False)"
   ]
  }
 ],
 "metadata": {
  "kernelspec": {
   "display_name": "MLCMS",
   "language": "python",
   "name": "mlcms"
  },
  "language_info": {
   "codemirror_mode": {
    "name": "ipython",
    "version": 3
   },
   "file_extension": ".py",
   "mimetype": "text/x-python",
   "name": "python",
   "nbconvert_exporter": "python",
   "pygments_lexer": "ipython3",
   "version": "3.11.9"
  }
 },
 "nbformat": 4,
 "nbformat_minor": 2
}
