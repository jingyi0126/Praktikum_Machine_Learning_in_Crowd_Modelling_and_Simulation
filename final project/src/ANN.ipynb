{
 "cells": [
  {
   "cell_type": "code",
   "execution_count": 1,
   "metadata": {},
   "outputs": [],
   "source": [
    "import pandas as pd\n",
    "import numpy as np\n",
    "import torch\n",
    "import os\n",
    "from utils import *\n",
    "from model import *\n",
    "from torch.utils.data import TensorDataset, DataLoader\n",
    "import torch.nn as nn\n",
    "import torch.optim as optim"
   ]
  },
  {
   "cell_type": "code",
   "execution_count": 2,
   "metadata": {},
   "outputs": [
    {
     "data": {
      "text/plain": [
       "device(type='cuda')"
      ]
     },
     "execution_count": 2,
     "metadata": {},
     "output_type": "execute_result"
    }
   ],
   "source": [
    "# Set the device\n",
    "device = torch.device(\"cuda\" if torch.cuda.is_available() else \"cpu\")\n",
    "device"
   ]
  },
  {
   "cell_type": "markdown",
   "metadata": {},
   "source": [
    "### Set up the datasets"
   ]
  },
  {
   "cell_type": "code",
   "execution_count": 3,
   "metadata": {},
   "outputs": [],
   "source": [
    "train_B = pd.read_csv(\"../processed_data/train_B.csv\", header=None)\n",
    "test_B = pd.read_csv(\"../processed_data/test_B.csv\", header=None)\n",
    "train_R = pd.read_csv(\"../processed_data/train_R.csv\", header=None)\n",
    "test_R = pd.read_csv(\"../processed_data/test_R.csv\", header=None)"
   ]
  },
  {
   "cell_type": "code",
   "execution_count": 4,
   "metadata": {},
   "outputs": [],
   "source": [
    "train_B = torch.tensor(np.array(train_B), dtype=torch.float32)\n",
    "test_B = torch.tensor(np.array(test_B), dtype=torch.float32)\n",
    "train_R = torch.tensor(np.array(train_R), dtype=torch.float32)\n",
    "test_R = torch.tensor(np.array(test_R), dtype=torch.float32)\n",
    "\n",
    "train_RB = torch.concat([train_B, train_R])\n",
    "test_RB = torch.concat([test_B, test_R])\n",
    "\n",
    "# Shuffle train_RB\n",
    "train_RB_indices = torch.randperm(train_RB.size(0))\n",
    "train_RB = train_RB[train_RB_indices]\n",
    "\n",
    "# Shuffle test_RB\n",
    "test_RB_indices = torch.randperm(test_RB.size(0))\n",
    "test_RB = test_RB[test_RB_indices]"
   ]
  },
  {
   "cell_type": "code",
   "execution_count": 5,
   "metadata": {},
   "outputs": [],
   "source": [
    "training_sets = [train_R, train_B, train_R, train_B, train_RB, train_RB, train_RB]\n",
    "test_sets =  [test_R, test_B, test_B, test_R, test_R, test_B, test_RB]\n",
    "# test_errors = []\n",
    "combination_name = ['R/R', 'B/B', 'R/B', 'B/R', 'R+B/R', 'R+B/B', 'R+B/R+B']"
   ]
  },
  {
   "cell_type": "markdown",
   "metadata": {},
   "source": [
    "### Define the hyperparameters"
   ]
  },
  {
   "cell_type": "code",
   "execution_count": 6,
   "metadata": {},
   "outputs": [],
   "source": [
    "hparams = {\n",
    "    'input_size': 21,            # Number of input features (e.g., number of columns in your dataset)\n",
    "    'hidden_sizes': [3],        # List of numbers of neurons of each hidden layer\n",
    "    'output_size': 1,            # Number of output neurons (e.g., 1 for binary classification)\n",
    "    'num_epochs': 10,            # Number of training epochs\n",
    "    'batch_size': 32,            # Batch size for training\n",
    "    'learning_rate': 0.001,      # Learning rate for the optimizer\n",
    "    'lr_decay_step_size': 10,    # Step size for learning rate decay\n",
    "    'lr_decay_gamma': 0.1,       # Multiplicative factor of learning rate decay\n",
    "    'random_state': 42           # Random seed for reproducibility\n",
    "}"
   ]
  },
  {
   "cell_type": "code",
   "execution_count": 7,
   "metadata": {},
   "outputs": [],
   "source": [
    "input_size = hparams['input_size']\n",
    "# hidden_sizes = hparams['hidden_sizes']\n",
    "output_size = hparams['output_size']\n",
    "num_epochs = hparams['num_epochs']\n",
    "batch_size = hparams['batch_size']\n",
    "learning_rate = hparams['learning_rate']\n",
    "lr_decay_step_size = hparams['lr_decay_step_size']\n",
    "lr_decay_gamma = hparams['lr_decay_gamma']"
   ]
  },
  {
   "cell_type": "markdown",
   "metadata": {},
   "source": [
    "### Select hidden sizes"
   ]
  },
  {
   "cell_type": "code",
   "execution_count": 43,
   "metadata": {},
   "outputs": [
    {
     "name": "stdout",
     "output_type": "stream",
     "text": [
      "Hidden layers: [1], Parameters: 24\n",
      "Hidden layers: [2], Parameters: 47\n",
      "Hidden layers: [3], Parameters: 70\n",
      "Hidden layers: [4, 2], Parameters: 101\n",
      "Hidden layers: [5, 2], Parameters: 125\n",
      "Hidden layers: [5, 3], Parameters: 132\n",
      "Hidden layers: [6, 3], Parameters: 157\n",
      "Hidden layers: [10, 4], Parameters: 269\n",
      "Hidden layers: [12, 5], Parameters: 335\n",
      "Hidden layers: [16], Parameters: 369\n",
      "Hidden layers: [16, 16], Parameters: 641\n",
      "Hidden layers: [32], Parameters: 737\n",
      "Hidden layers: [32, 16], Parameters: 1249\n"
     ]
    }
   ],
   "source": [
    "def calculate_fcn_parameters(input_size, hidden_layers, output_size):\n",
    "    layers = [input_size] + hidden_layers + [output_size]\n",
    "    total_params = 0\n",
    "    for i in range(len(layers) - 1):\n",
    "        weights = layers[i] * layers[i + 1]\n",
    "        biases = layers[i + 1]\n",
    "        total_params += weights + biases\n",
    "    return total_params\n",
    "\n",
    "# Define the hidden sizes and the input/output sizes\n",
    "hidden_sizes = [[1], [2], [3], [4, 2], [5, 2], [5, 3], [6, 3], [10, 4], [12, 5], [16], [32], [16, 16], [32, 16]]\n",
    "input_size = 21\n",
    "output_size = 1\n",
    "\n",
    "# Calculate the number of parameters for each configuration\n",
    "params_list = []\n",
    "for hidden in hidden_sizes:\n",
    "    params = calculate_fcn_parameters(input_size, hidden, output_size)\n",
    "    params_list.append((hidden, params))\n",
    "\n",
    "# Sort the configurations by the number of parameters\n",
    "params_list.sort(key=lambda x: x[1])\n",
    "\n",
    "# Print the ordered configurations with their parameters\n",
    "for hidden, params in params_list:\n",
    "    print(f'Hidden layers: {hidden}, Parameters: {params}')"
   ]
  },
  {
   "cell_type": "code",
   "execution_count": 45,
   "metadata": {},
   "outputs": [],
   "source": [
    "# Update hidden_sizes with the ordered configurations\n",
    "hidden_sizes = [hidden for hidden, params in params_list]"
   ]
  },
  {
   "cell_type": "code",
   "execution_count": 46,
   "metadata": {},
   "outputs": [
    {
     "data": {
      "text/plain": [
       "[[1],\n",
       " [2],\n",
       " [3],\n",
       " [4, 2],\n",
       " [5, 2],\n",
       " [5, 3],\n",
       " [6, 3],\n",
       " [10, 4],\n",
       " [12, 5],\n",
       " [16],\n",
       " [16, 16],\n",
       " [32],\n",
       " [32, 16]]"
      ]
     },
     "execution_count": 46,
     "metadata": {},
     "output_type": "execute_result"
    }
   ],
   "source": [
    "hidden_sizes"
   ]
  },
  {
   "cell_type": "code",
   "execution_count": 50,
   "metadata": {},
   "outputs": [],
   "source": [
    "# Convert each sublist to a string\n",
    "hidden_sizes_string = [f\"({','.join(map(str, sublist))})\" for sublist in hidden_sizes]"
   ]
  },
  {
   "cell_type": "code",
   "execution_count": 51,
   "metadata": {},
   "outputs": [
    {
     "data": {
      "text/plain": [
       "['(1)',\n",
       " '(2)',\n",
       " '(3)',\n",
       " '(4,2)',\n",
       " '(5,2)',\n",
       " '(5,3)',\n",
       " '(6,3)',\n",
       " '(10,4)',\n",
       " '(12,5)',\n",
       " '(16)',\n",
       " '(16,16)',\n",
       " '(32)',\n",
       " '(32,16)']"
      ]
     },
     "execution_count": 51,
     "metadata": {},
     "output_type": "execute_result"
    }
   ],
   "source": [
    "hidden_sizes_string"
   ]
  },
  {
   "cell_type": "code",
   "execution_count": 53,
   "metadata": {},
   "outputs": [
    {
     "name": "stdout",
     "output_type": "stream",
     "text": [
      "Training with ANN whose hidden size is [1]\n",
      "Epoch [1/10], MSE (train): 0.10385\n",
      "Epoch [2/10], MSE (train): 0.10394\n",
      "Epoch [3/10], MSE (train): 0.10403\n",
      "Epoch [4/10], MSE (train): 0.10403\n",
      "Epoch [5/10], MSE (train): 0.10403\n",
      "Epoch [6/10], MSE (train): 0.10403\n",
      "Epoch [7/10], MSE (train): 0.10403\n",
      "Epoch [8/10], MSE (train): 0.10403\n",
      "Epoch [9/10], MSE (train): 0.10403\n",
      "Epoch [10/10], MSE (train): 0.10403\n",
      "MSE (evaluate): 0.1474\n",
      "Training with ANN whose hidden size is [2]\n",
      "Epoch [1/10], MSE (train): 0.13606\n",
      "Epoch [2/10], MSE (train): 0.12816\n",
      "Epoch [3/10], MSE (train): 0.1231\n",
      "Epoch [4/10], MSE (train): 0.11291\n",
      "Epoch [5/10], MSE (train): 0.09726\n",
      "Epoch [6/10], MSE (train): 0.054182\n",
      "Epoch [7/10], MSE (train): 0.050775\n",
      "Epoch [8/10], MSE (train): 0.049427\n",
      "Epoch [9/10], MSE (train): 0.048718\n",
      "Epoch [10/10], MSE (train): 0.048301\n",
      "MSE (evaluate): 0.074343\n",
      "Training with ANN whose hidden size is [3]\n",
      "Epoch [1/10], MSE (train): 0.10609\n",
      "Epoch [2/10], MSE (train): 0.14097\n",
      "Epoch [3/10], MSE (train): 0.12889\n",
      "Epoch [4/10], MSE (train): 0.12045\n",
      "Epoch [5/10], MSE (train): 0.10094\n",
      "Epoch [6/10], MSE (train): 0.057623\n",
      "Epoch [7/10], MSE (train): 0.051566\n",
      "Epoch [8/10], MSE (train): 0.049802\n",
      "Epoch [9/10], MSE (train): 0.048901\n",
      "Epoch [10/10], MSE (train): 0.048386\n",
      "MSE (evaluate): 0.074337\n",
      "Training with ANN whose hidden size is [4, 2]\n",
      "Epoch [1/10], MSE (train): 0.10182\n",
      "Epoch [2/10], MSE (train): 0.10194\n",
      "Epoch [3/10], MSE (train): 0.12922\n",
      "Epoch [4/10], MSE (train): 0.078043\n",
      "Epoch [5/10], MSE (train): 0.031338\n",
      "Epoch [6/10], MSE (train): 0.033448\n",
      "Epoch [7/10], MSE (train): 0.029013\n",
      "Epoch [8/10], MSE (train): 0.030972\n",
      "Epoch [9/10], MSE (train): 0.032108\n",
      "Epoch [10/10], MSE (train): 0.031408\n",
      "MSE (evaluate): 0.049455\n",
      "Training with ANN whose hidden size is [5, 2]\n",
      "Epoch [1/10], MSE (train): 0.033304\n",
      "Epoch [2/10], MSE (train): 0.031436\n",
      "Epoch [3/10], MSE (train): 0.024868\n",
      "Epoch [4/10], MSE (train): 0.024724\n",
      "Epoch [5/10], MSE (train): 0.023539\n",
      "Epoch [6/10], MSE (train): 0.022946\n",
      "Epoch [7/10], MSE (train): 0.022843\n",
      "Epoch [8/10], MSE (train): 0.02259\n",
      "Epoch [9/10], MSE (train): 0.022449\n",
      "Epoch [10/10], MSE (train): 0.022257\n",
      "MSE (evaluate): 0.045115\n",
      "Training with ANN whose hidden size is [5, 3]\n",
      "Epoch [1/10], MSE (train): 0.11115\n",
      "Epoch [2/10], MSE (train): 0.023635\n",
      "Epoch [3/10], MSE (train): 0.022407\n",
      "Epoch [4/10], MSE (train): 0.021869\n",
      "Epoch [5/10], MSE (train): 0.021416\n",
      "Epoch [6/10], MSE (train): 0.021074\n",
      "Epoch [7/10], MSE (train): 0.020682\n",
      "Epoch [8/10], MSE (train): 0.020417\n",
      "Epoch [9/10], MSE (train): 0.020178\n",
      "Epoch [10/10], MSE (train): 0.019894\n",
      "MSE (evaluate): 0.045644\n",
      "Training with ANN whose hidden size is [6, 3]\n",
      "Epoch [1/10], MSE (train): 0.076989\n",
      "Epoch [2/10], MSE (train): 0.018529\n",
      "Epoch [3/10], MSE (train): 0.020052\n",
      "Epoch [4/10], MSE (train): 0.021922\n",
      "Epoch [5/10], MSE (train): 0.019733\n",
      "Epoch [6/10], MSE (train): 0.019341\n",
      "Epoch [7/10], MSE (train): 0.01864\n",
      "Epoch [8/10], MSE (train): 0.019049\n",
      "Epoch [9/10], MSE (train): 0.018213\n",
      "Epoch [10/10], MSE (train): 0.018414\n",
      "MSE (evaluate): 0.037626\n",
      "Training with ANN whose hidden size is [10, 4]\n",
      "Epoch [1/10], MSE (train): 0.086924\n",
      "Epoch [2/10], MSE (train): 0.026271\n",
      "Epoch [3/10], MSE (train): 0.024293\n",
      "Epoch [4/10], MSE (train): 0.021825\n",
      "Epoch [5/10], MSE (train): 0.020407\n",
      "Epoch [6/10], MSE (train): 0.01946\n",
      "Epoch [7/10], MSE (train): 0.018612\n",
      "Epoch [8/10], MSE (train): 0.017522\n",
      "Epoch [9/10], MSE (train): 0.016901\n",
      "Epoch [10/10], MSE (train): 0.016692\n",
      "MSE (evaluate): 0.042719\n",
      "Training with ANN whose hidden size is [12, 5]\n",
      "Epoch [1/10], MSE (train): 0.081023\n",
      "Epoch [2/10], MSE (train): 0.02601\n",
      "Epoch [3/10], MSE (train): 0.021673\n",
      "Epoch [4/10], MSE (train): 0.023155\n",
      "Epoch [5/10], MSE (train): 0.023023\n",
      "Epoch [6/10], MSE (train): 0.021248\n",
      "Epoch [7/10], MSE (train): 0.019839\n",
      "Epoch [8/10], MSE (train): 0.020267\n",
      "Epoch [9/10], MSE (train): 0.020134\n",
      "Epoch [10/10], MSE (train): 0.019593\n",
      "MSE (evaluate): 0.034592\n",
      "Training with ANN whose hidden size is [16]\n",
      "Epoch [1/10], MSE (train): 0.072747\n",
      "Epoch [2/10], MSE (train): 0.03552\n",
      "Epoch [3/10], MSE (train): 0.028046\n",
      "Epoch [4/10], MSE (train): 0.023698\n",
      "Epoch [5/10], MSE (train): 0.016372\n",
      "Epoch [6/10], MSE (train): 0.015575\n",
      "Epoch [7/10], MSE (train): 0.019984\n",
      "Epoch [8/10], MSE (train): 0.020816\n",
      "Epoch [9/10], MSE (train): 0.02204\n",
      "Epoch [10/10], MSE (train): 0.021895\n",
      "MSE (evaluate): 0.042095\n",
      "Training with ANN whose hidden size is [16, 16]\n",
      "Epoch [1/10], MSE (train): 0.03606\n",
      "Epoch [2/10], MSE (train): 0.026801\n",
      "Epoch [3/10], MSE (train): 0.022666\n",
      "Epoch [4/10], MSE (train): 0.016819\n",
      "Epoch [5/10], MSE (train): 0.0175\n",
      "Epoch [6/10], MSE (train): 0.015722\n",
      "Epoch [7/10], MSE (train): 0.015961\n",
      "Epoch [8/10], MSE (train): 0.018184\n",
      "Epoch [9/10], MSE (train): 0.017353\n",
      "Epoch [10/10], MSE (train): 0.016593\n",
      "MSE (evaluate): 0.034499\n",
      "Training with ANN whose hidden size is [32]\n",
      "Epoch [1/10], MSE (train): 0.052478\n",
      "Epoch [2/10], MSE (train): 0.064923\n",
      "Epoch [3/10], MSE (train): 0.022696\n",
      "Epoch [4/10], MSE (train): 0.017269\n",
      "Epoch [5/10], MSE (train): 0.016833\n",
      "Epoch [6/10], MSE (train): 0.018398\n",
      "Epoch [7/10], MSE (train): 0.023239\n",
      "Epoch [8/10], MSE (train): 0.017618\n",
      "Epoch [9/10], MSE (train): 0.020885\n",
      "Epoch [10/10], MSE (train): 0.022234\n",
      "MSE (evaluate): 0.038745\n",
      "Training with ANN whose hidden size is [32, 16]\n",
      "Epoch [1/10], MSE (train): 0.033516\n",
      "Epoch [2/10], MSE (train): 0.02276\n",
      "Epoch [3/10], MSE (train): 0.021543\n",
      "Epoch [4/10], MSE (train): 0.026287\n",
      "Epoch [5/10], MSE (train): 0.025022\n",
      "Epoch [6/10], MSE (train): 0.020684\n",
      "Epoch [7/10], MSE (train): 0.019595\n",
      "Epoch [8/10], MSE (train): 0.020316\n",
      "Epoch [9/10], MSE (train): 0.020764\n",
      "Epoch [10/10], MSE (train): 0.021703\n",
      "MSE (evaluate): 0.03305\n"
     ]
    }
   ],
   "source": [
    "# Losses for selecting hidden_size\n",
    "train_losses1 = []\n",
    "test_losses1 = []\n",
    "\n",
    "for i in range(len(hidden_sizes)):\n",
    "    print(f\"Training with ANN whose hidden size is {hidden_sizes[i]}\")\n",
    "    model = ANNModel(input_size, hidden_sizes[i], output_size).to(device)\n",
    "\n",
    "    # Use R+B/R+B to determine which hidden_size to choose\n",
    "    X_train = training_sets[6][:, :-1].to(device)\n",
    "    Y_train = training_sets[6][:, -1].to(device)\n",
    "    X_test = test_sets[6][:, :-1].to(device)\n",
    "    Y_test = test_sets[6][:, -1].to(device)\n",
    "\n",
    "    # Create dataloaders for training and test sets\n",
    "    train_loader = DataLoader(dataset=TensorDataset(X_train, Y_train), batch_size=batch_size, shuffle=False)\n",
    "    test_loader = DataLoader(dataset=TensorDataset(X_test, Y_test), batch_size=batch_size, shuffle=False)\n",
    "    \n",
    "    # Set the parameters for training and evaluating\n",
    "    criterion = nn.MSELoss()\n",
    "    optimizer = optim.Adam(model.parameters(), lr=learning_rate)\n",
    "    scheduler = optim.lr_scheduler.StepLR(optimizer, step_size=lr_decay_step_size, gamma=lr_decay_gamma)\n",
    "       \n",
    "    # Train the model\n",
    "    train_loss = train(model, train_loader, criterion, optimizer, scheduler, num_epochs=num_epochs)\n",
    "    \n",
    "    # Evaluate the model\n",
    "    test_loss = evaluate(model, test_loader, criterion)\n",
    "\n",
    "    train_losses1.append(train_loss)\n",
    "    test_losses1.append(test_loss)"
   ]
  },
  {
   "cell_type": "code",
   "execution_count": 54,
   "metadata": {},
   "outputs": [
    {
     "data": {
      "text/plain": [
       "[[0.1038450375199318,\n",
       "  0.10394074022769928,\n",
       "  0.10402975976467133,\n",
       "  0.10403141379356384,\n",
       "  0.1040315330028534,\n",
       "  0.10403154790401459,\n",
       "  0.10403154790401459,\n",
       "  0.10403154790401459,\n",
       "  0.10403154790401459,\n",
       "  0.10403154790401459],\n",
       " [0.13605926930904388,\n",
       "  0.12815511226654053,\n",
       "  0.12310435622930527,\n",
       "  0.11290715634822845,\n",
       "  0.09726037085056305,\n",
       "  0.0541820228099823,\n",
       "  0.05077545344829559,\n",
       "  0.049427371472120285,\n",
       "  0.04871758818626404,\n",
       "  0.04830053821206093],\n",
       " [0.10608848929405212,\n",
       "  0.14097058773040771,\n",
       "  0.1288866549730301,\n",
       "  0.12045421451330185,\n",
       "  0.10093860328197479,\n",
       "  0.05762314423918724,\n",
       "  0.05156556889414787,\n",
       "  0.049801696091890335,\n",
       "  0.04890123009681702,\n",
       "  0.048386234790086746],\n",
       " [0.10182222723960876,\n",
       "  0.10194360464811325,\n",
       "  0.12921951711177826,\n",
       "  0.07804296165704727,\n",
       "  0.03133808448910713,\n",
       "  0.03344782069325447,\n",
       "  0.02901339903473854,\n",
       "  0.030972430482506752,\n",
       "  0.03210826963186264,\n",
       "  0.03140781447291374],\n",
       " [0.033303748816251755,\n",
       "  0.03143623471260071,\n",
       "  0.02486760914325714,\n",
       "  0.024723654612898827,\n",
       "  0.023539165034890175,\n",
       "  0.022945789620280266,\n",
       "  0.022842928767204285,\n",
       "  0.02259039878845215,\n",
       "  0.02244926057755947,\n",
       "  0.02225678041577339],\n",
       " [0.11114580184221268,\n",
       "  0.023635176941752434,\n",
       "  0.022406790405511856,\n",
       "  0.021869244053959846,\n",
       "  0.02141561359167099,\n",
       "  0.021074051037430763,\n",
       "  0.02068244479596615,\n",
       "  0.020417451858520508,\n",
       "  0.020177919417619705,\n",
       "  0.019894149154424667],\n",
       " [0.0769885778427124,\n",
       "  0.018529310822486877,\n",
       "  0.020052215084433556,\n",
       "  0.021921969950199127,\n",
       "  0.019732901826500893,\n",
       "  0.019341079518198967,\n",
       "  0.0186403039842844,\n",
       "  0.01904888078570366,\n",
       "  0.018212616443634033,\n",
       "  0.018414050340652466],\n",
       " [0.08692363649606705,\n",
       "  0.026270508766174316,\n",
       "  0.02429281175136566,\n",
       "  0.02182452566921711,\n",
       "  0.02040730230510235,\n",
       "  0.019460007548332214,\n",
       "  0.01861174777150154,\n",
       "  0.01752236858010292,\n",
       "  0.01690143160521984,\n",
       "  0.01669207587838173],\n",
       " [0.08102309703826904,\n",
       "  0.026010118424892426,\n",
       "  0.02167317271232605,\n",
       "  0.023155078291893005,\n",
       "  0.023023292422294617,\n",
       "  0.021247968077659607,\n",
       "  0.019838927313685417,\n",
       "  0.020267179235816002,\n",
       "  0.02013447880744934,\n",
       "  0.019592784345149994],\n",
       " [0.07274729013442993,\n",
       "  0.03551999852061272,\n",
       "  0.028046326711773872,\n",
       "  0.02369806542992592,\n",
       "  0.01637168414890766,\n",
       "  0.015575230121612549,\n",
       "  0.01998448558151722,\n",
       "  0.02081567607820034,\n",
       "  0.022040341049432755,\n",
       "  0.02189459465444088],\n",
       " [0.036059536039829254,\n",
       "  0.02680116705596447,\n",
       "  0.02266630530357361,\n",
       "  0.01681872457265854,\n",
       "  0.017499608919024467,\n",
       "  0.0157223679125309,\n",
       "  0.015960877761244774,\n",
       "  0.01818443275988102,\n",
       "  0.01735260896384716,\n",
       "  0.01659349724650383],\n",
       " [0.052478477358818054,\n",
       "  0.06492330878973007,\n",
       "  0.022695980966091156,\n",
       "  0.017268870025873184,\n",
       "  0.016832899302244186,\n",
       "  0.01839807629585266,\n",
       "  0.02323927916586399,\n",
       "  0.017618302255868912,\n",
       "  0.02088497020304203,\n",
       "  0.022234389558434486],\n",
       " [0.03351588919758797,\n",
       "  0.022760188207030296,\n",
       "  0.021543174982070923,\n",
       "  0.026287296786904335,\n",
       "  0.025021862238645554,\n",
       "  0.020684344694018364,\n",
       "  0.01959514431655407,\n",
       "  0.02031565271317959,\n",
       "  0.0207638181746006,\n",
       "  0.021703163161873817]]"
      ]
     },
     "execution_count": 54,
     "metadata": {},
     "output_type": "execute_result"
    }
   ],
   "source": [
    "train_losses1"
   ]
  },
  {
   "cell_type": "code",
   "execution_count": 55,
   "metadata": {},
   "outputs": [
    {
     "data": {
      "text/plain": [
       "[0.14740458113417845,\n",
       " 0.07434345040138464,\n",
       " 0.0743368849755663,\n",
       " 0.04945522218862845,\n",
       " 0.04511488690720082,\n",
       " 0.045644347260468496,\n",
       " 0.03762600384384791,\n",
       " 0.042718951580435274,\n",
       " 0.03459153072634979,\n",
       " 0.042094907321422514,\n",
       " 0.03449897971415248,\n",
       " 0.03874499401901351,\n",
       " 0.033050229441968296]"
      ]
     },
     "execution_count": 55,
     "metadata": {},
     "output_type": "execute_result"
    }
   ],
   "source": [
    "test_losses1"
   ]
  },
  {
   "cell_type": "code",
   "execution_count": 56,
   "metadata": {},
   "outputs": [],
   "source": [
    "train_losses_1 = pd.DataFrame(np.array(train_losses1).T, columns=hidden_sizes_string)"
   ]
  },
  {
   "cell_type": "code",
   "execution_count": 57,
   "metadata": {},
   "outputs": [
    {
     "data": {
      "text/html": [
       "<div>\n",
       "<style scoped>\n",
       "    .dataframe tbody tr th:only-of-type {\n",
       "        vertical-align: middle;\n",
       "    }\n",
       "\n",
       "    .dataframe tbody tr th {\n",
       "        vertical-align: top;\n",
       "    }\n",
       "\n",
       "    .dataframe thead th {\n",
       "        text-align: right;\n",
       "    }\n",
       "</style>\n",
       "<table border=\"1\" class=\"dataframe\">\n",
       "  <thead>\n",
       "    <tr style=\"text-align: right;\">\n",
       "      <th></th>\n",
       "      <th>(1)</th>\n",
       "      <th>(2)</th>\n",
       "      <th>(3)</th>\n",
       "      <th>(4,2)</th>\n",
       "      <th>(5,2)</th>\n",
       "      <th>(5,3)</th>\n",
       "      <th>(6,3)</th>\n",
       "      <th>(10,4)</th>\n",
       "      <th>(12,5)</th>\n",
       "      <th>(16)</th>\n",
       "      <th>(16,16)</th>\n",
       "      <th>(32)</th>\n",
       "      <th>(32,16)</th>\n",
       "    </tr>\n",
       "  </thead>\n",
       "  <tbody>\n",
       "    <tr>\n",
       "      <th>0</th>\n",
       "      <td>0.103845</td>\n",
       "      <td>0.136059</td>\n",
       "      <td>0.106088</td>\n",
       "      <td>0.101822</td>\n",
       "      <td>0.033304</td>\n",
       "      <td>0.111146</td>\n",
       "      <td>0.076989</td>\n",
       "      <td>0.086924</td>\n",
       "      <td>0.081023</td>\n",
       "      <td>0.072747</td>\n",
       "      <td>0.036060</td>\n",
       "      <td>0.052478</td>\n",
       "      <td>0.033516</td>\n",
       "    </tr>\n",
       "    <tr>\n",
       "      <th>1</th>\n",
       "      <td>0.103941</td>\n",
       "      <td>0.128155</td>\n",
       "      <td>0.140971</td>\n",
       "      <td>0.101944</td>\n",
       "      <td>0.031436</td>\n",
       "      <td>0.023635</td>\n",
       "      <td>0.018529</td>\n",
       "      <td>0.026271</td>\n",
       "      <td>0.026010</td>\n",
       "      <td>0.035520</td>\n",
       "      <td>0.026801</td>\n",
       "      <td>0.064923</td>\n",
       "      <td>0.022760</td>\n",
       "    </tr>\n",
       "    <tr>\n",
       "      <th>2</th>\n",
       "      <td>0.104030</td>\n",
       "      <td>0.123104</td>\n",
       "      <td>0.128887</td>\n",
       "      <td>0.129220</td>\n",
       "      <td>0.024868</td>\n",
       "      <td>0.022407</td>\n",
       "      <td>0.020052</td>\n",
       "      <td>0.024293</td>\n",
       "      <td>0.021673</td>\n",
       "      <td>0.028046</td>\n",
       "      <td>0.022666</td>\n",
       "      <td>0.022696</td>\n",
       "      <td>0.021543</td>\n",
       "    </tr>\n",
       "    <tr>\n",
       "      <th>3</th>\n",
       "      <td>0.104031</td>\n",
       "      <td>0.112907</td>\n",
       "      <td>0.120454</td>\n",
       "      <td>0.078043</td>\n",
       "      <td>0.024724</td>\n",
       "      <td>0.021869</td>\n",
       "      <td>0.021922</td>\n",
       "      <td>0.021825</td>\n",
       "      <td>0.023155</td>\n",
       "      <td>0.023698</td>\n",
       "      <td>0.016819</td>\n",
       "      <td>0.017269</td>\n",
       "      <td>0.026287</td>\n",
       "    </tr>\n",
       "    <tr>\n",
       "      <th>4</th>\n",
       "      <td>0.104032</td>\n",
       "      <td>0.097260</td>\n",
       "      <td>0.100939</td>\n",
       "      <td>0.031338</td>\n",
       "      <td>0.023539</td>\n",
       "      <td>0.021416</td>\n",
       "      <td>0.019733</td>\n",
       "      <td>0.020407</td>\n",
       "      <td>0.023023</td>\n",
       "      <td>0.016372</td>\n",
       "      <td>0.017500</td>\n",
       "      <td>0.016833</td>\n",
       "      <td>0.025022</td>\n",
       "    </tr>\n",
       "    <tr>\n",
       "      <th>5</th>\n",
       "      <td>0.104032</td>\n",
       "      <td>0.054182</td>\n",
       "      <td>0.057623</td>\n",
       "      <td>0.033448</td>\n",
       "      <td>0.022946</td>\n",
       "      <td>0.021074</td>\n",
       "      <td>0.019341</td>\n",
       "      <td>0.019460</td>\n",
       "      <td>0.021248</td>\n",
       "      <td>0.015575</td>\n",
       "      <td>0.015722</td>\n",
       "      <td>0.018398</td>\n",
       "      <td>0.020684</td>\n",
       "    </tr>\n",
       "    <tr>\n",
       "      <th>6</th>\n",
       "      <td>0.104032</td>\n",
       "      <td>0.050775</td>\n",
       "      <td>0.051566</td>\n",
       "      <td>0.029013</td>\n",
       "      <td>0.022843</td>\n",
       "      <td>0.020682</td>\n",
       "      <td>0.018640</td>\n",
       "      <td>0.018612</td>\n",
       "      <td>0.019839</td>\n",
       "      <td>0.019984</td>\n",
       "      <td>0.015961</td>\n",
       "      <td>0.023239</td>\n",
       "      <td>0.019595</td>\n",
       "    </tr>\n",
       "    <tr>\n",
       "      <th>7</th>\n",
       "      <td>0.104032</td>\n",
       "      <td>0.049427</td>\n",
       "      <td>0.049802</td>\n",
       "      <td>0.030972</td>\n",
       "      <td>0.022590</td>\n",
       "      <td>0.020417</td>\n",
       "      <td>0.019049</td>\n",
       "      <td>0.017522</td>\n",
       "      <td>0.020267</td>\n",
       "      <td>0.020816</td>\n",
       "      <td>0.018184</td>\n",
       "      <td>0.017618</td>\n",
       "      <td>0.020316</td>\n",
       "    </tr>\n",
       "    <tr>\n",
       "      <th>8</th>\n",
       "      <td>0.104032</td>\n",
       "      <td>0.048718</td>\n",
       "      <td>0.048901</td>\n",
       "      <td>0.032108</td>\n",
       "      <td>0.022449</td>\n",
       "      <td>0.020178</td>\n",
       "      <td>0.018213</td>\n",
       "      <td>0.016901</td>\n",
       "      <td>0.020134</td>\n",
       "      <td>0.022040</td>\n",
       "      <td>0.017353</td>\n",
       "      <td>0.020885</td>\n",
       "      <td>0.020764</td>\n",
       "    </tr>\n",
       "    <tr>\n",
       "      <th>9</th>\n",
       "      <td>0.104032</td>\n",
       "      <td>0.048301</td>\n",
       "      <td>0.048386</td>\n",
       "      <td>0.031408</td>\n",
       "      <td>0.022257</td>\n",
       "      <td>0.019894</td>\n",
       "      <td>0.018414</td>\n",
       "      <td>0.016692</td>\n",
       "      <td>0.019593</td>\n",
       "      <td>0.021895</td>\n",
       "      <td>0.016593</td>\n",
       "      <td>0.022234</td>\n",
       "      <td>0.021703</td>\n",
       "    </tr>\n",
       "  </tbody>\n",
       "</table>\n",
       "</div>"
      ],
      "text/plain": [
       "        (1)       (2)       (3)     (4,2)     (5,2)     (5,3)     (6,3)  \\\n",
       "0  0.103845  0.136059  0.106088  0.101822  0.033304  0.111146  0.076989   \n",
       "1  0.103941  0.128155  0.140971  0.101944  0.031436  0.023635  0.018529   \n",
       "2  0.104030  0.123104  0.128887  0.129220  0.024868  0.022407  0.020052   \n",
       "3  0.104031  0.112907  0.120454  0.078043  0.024724  0.021869  0.021922   \n",
       "4  0.104032  0.097260  0.100939  0.031338  0.023539  0.021416  0.019733   \n",
       "5  0.104032  0.054182  0.057623  0.033448  0.022946  0.021074  0.019341   \n",
       "6  0.104032  0.050775  0.051566  0.029013  0.022843  0.020682  0.018640   \n",
       "7  0.104032  0.049427  0.049802  0.030972  0.022590  0.020417  0.019049   \n",
       "8  0.104032  0.048718  0.048901  0.032108  0.022449  0.020178  0.018213   \n",
       "9  0.104032  0.048301  0.048386  0.031408  0.022257  0.019894  0.018414   \n",
       "\n",
       "     (10,4)    (12,5)      (16)   (16,16)      (32)   (32,16)  \n",
       "0  0.086924  0.081023  0.072747  0.036060  0.052478  0.033516  \n",
       "1  0.026271  0.026010  0.035520  0.026801  0.064923  0.022760  \n",
       "2  0.024293  0.021673  0.028046  0.022666  0.022696  0.021543  \n",
       "3  0.021825  0.023155  0.023698  0.016819  0.017269  0.026287  \n",
       "4  0.020407  0.023023  0.016372  0.017500  0.016833  0.025022  \n",
       "5  0.019460  0.021248  0.015575  0.015722  0.018398  0.020684  \n",
       "6  0.018612  0.019839  0.019984  0.015961  0.023239  0.019595  \n",
       "7  0.017522  0.020267  0.020816  0.018184  0.017618  0.020316  \n",
       "8  0.016901  0.020134  0.022040  0.017353  0.020885  0.020764  \n",
       "9  0.016692  0.019593  0.021895  0.016593  0.022234  0.021703  "
      ]
     },
     "execution_count": 57,
     "metadata": {},
     "output_type": "execute_result"
    }
   ],
   "source": [
    "train_losses_1"
   ]
  },
  {
   "cell_type": "code",
   "execution_count": 58,
   "metadata": {},
   "outputs": [],
   "source": [
    "test_losses_1 = pd.DataFrame(np.array(test_losses1).reshape(-1, 1).T, columns= hidden_sizes_string)"
   ]
  },
  {
   "cell_type": "code",
   "execution_count": 59,
   "metadata": {},
   "outputs": [
    {
     "data": {
      "text/html": [
       "<div>\n",
       "<style scoped>\n",
       "    .dataframe tbody tr th:only-of-type {\n",
       "        vertical-align: middle;\n",
       "    }\n",
       "\n",
       "    .dataframe tbody tr th {\n",
       "        vertical-align: top;\n",
       "    }\n",
       "\n",
       "    .dataframe thead th {\n",
       "        text-align: right;\n",
       "    }\n",
       "</style>\n",
       "<table border=\"1\" class=\"dataframe\">\n",
       "  <thead>\n",
       "    <tr style=\"text-align: right;\">\n",
       "      <th></th>\n",
       "      <th>(1)</th>\n",
       "      <th>(2)</th>\n",
       "      <th>(3)</th>\n",
       "      <th>(4,2)</th>\n",
       "      <th>(5,2)</th>\n",
       "      <th>(5,3)</th>\n",
       "      <th>(6,3)</th>\n",
       "      <th>(10,4)</th>\n",
       "      <th>(12,5)</th>\n",
       "      <th>(16)</th>\n",
       "      <th>(16,16)</th>\n",
       "      <th>(32)</th>\n",
       "      <th>(32,16)</th>\n",
       "    </tr>\n",
       "  </thead>\n",
       "  <tbody>\n",
       "    <tr>\n",
       "      <th>0</th>\n",
       "      <td>0.147405</td>\n",
       "      <td>0.074343</td>\n",
       "      <td>0.074337</td>\n",
       "      <td>0.049455</td>\n",
       "      <td>0.045115</td>\n",
       "      <td>0.045644</td>\n",
       "      <td>0.037626</td>\n",
       "      <td>0.042719</td>\n",
       "      <td>0.034592</td>\n",
       "      <td>0.042095</td>\n",
       "      <td>0.034499</td>\n",
       "      <td>0.038745</td>\n",
       "      <td>0.03305</td>\n",
       "    </tr>\n",
       "  </tbody>\n",
       "</table>\n",
       "</div>"
      ],
      "text/plain": [
       "        (1)       (2)       (3)     (4,2)     (5,2)     (5,3)     (6,3)  \\\n",
       "0  0.147405  0.074343  0.074337  0.049455  0.045115  0.045644  0.037626   \n",
       "\n",
       "     (10,4)    (12,5)      (16)   (16,16)      (32)  (32,16)  \n",
       "0  0.042719  0.034592  0.042095  0.034499  0.038745  0.03305  "
      ]
     },
     "execution_count": 59,
     "metadata": {},
     "output_type": "execute_result"
    }
   ],
   "source": [
    "test_losses_1"
   ]
  },
  {
   "cell_type": "code",
   "execution_count": 60,
   "metadata": {},
   "outputs": [],
   "source": [
    "train_losses_1.to_csv('../outputs/train_losses_wrt_hidden_sizes.csv', index=None)\n",
    "test_losses_1.to_csv('../outputs/test_losses_wrt_hidden_sizes.csv', index=None)"
   ]
  },
  {
   "cell_type": "markdown",
   "metadata": {},
   "source": [
    "### Train and test on different datasets"
   ]
  },
  {
   "cell_type": "code",
   "execution_count": 79,
   "metadata": {},
   "outputs": [],
   "source": [
    "hidden_sizes = [12, 5]"
   ]
  },
  {
   "cell_type": "code",
   "execution_count": 80,
   "metadata": {},
   "outputs": [
    {
     "name": "stdout",
     "output_type": "stream",
     "text": [
      "Training for R/R\n",
      "Epoch [1/10], MSE (train): 0.055851\n",
      "Epoch [2/10], MSE (train): 0.031464\n",
      "Epoch [3/10], MSE (train): 0.020183\n",
      "Epoch [4/10], MSE (train): 0.019996\n",
      "Epoch [5/10], MSE (train): 0.018885\n",
      "Epoch [6/10], MSE (train): 0.01766\n",
      "Epoch [7/10], MSE (train): 0.018899\n",
      "Epoch [8/10], MSE (train): 0.019567\n",
      "Epoch [9/10], MSE (train): 0.015733\n",
      "Epoch [10/10], MSE (train): 0.016671\n",
      "MSE (evaluate): 0.029388\n",
      "Training for B/B\n",
      "Epoch [1/10], MSE (train): 0.026092\n",
      "Epoch [2/10], MSE (train): 0.021793\n",
      "Epoch [3/10], MSE (train): 0.020377\n",
      "Epoch [4/10], MSE (train): 0.018695\n",
      "Epoch [5/10], MSE (train): 0.018663\n",
      "Epoch [6/10], MSE (train): 0.017899\n",
      "Epoch [7/10], MSE (train): 0.019517\n",
      "Epoch [8/10], MSE (train): 0.021632\n",
      "Epoch [9/10], MSE (train): 0.021458\n",
      "Epoch [10/10], MSE (train): 0.02224\n",
      "MSE (evaluate): 0.053978\n",
      "Training for R/B\n",
      "Epoch [1/10], MSE (train): 0.076092\n",
      "Epoch [2/10], MSE (train): 0.030811\n",
      "Epoch [3/10], MSE (train): 0.024911\n",
      "Epoch [4/10], MSE (train): 0.021491\n",
      "Epoch [5/10], MSE (train): 0.020919\n",
      "Epoch [6/10], MSE (train): 0.020899\n",
      "Epoch [7/10], MSE (train): 0.021362\n",
      "Epoch [8/10], MSE (train): 0.021241\n",
      "Epoch [9/10], MSE (train): 0.022462\n",
      "Epoch [10/10], MSE (train): 0.023921\n",
      "MSE (evaluate): 0.11234\n",
      "Training for B/R\n",
      "Epoch [1/10], MSE (train): 0.15594\n",
      "Epoch [2/10], MSE (train): 0.064397\n",
      "Epoch [3/10], MSE (train): 0.046622\n",
      "Epoch [4/10], MSE (train): 0.04226\n",
      "Epoch [5/10], MSE (train): 0.041572\n",
      "Epoch [6/10], MSE (train): 0.036869\n",
      "Epoch [7/10], MSE (train): 0.036534\n",
      "Epoch [8/10], MSE (train): 0.037765\n",
      "Epoch [9/10], MSE (train): 0.036918\n",
      "Epoch [10/10], MSE (train): 0.013528\n",
      "MSE (evaluate): 0.2521\n",
      "Training for R+B/R\n",
      "Epoch [1/10], MSE (train): 0.031443\n",
      "Epoch [2/10], MSE (train): 0.019461\n",
      "Epoch [3/10], MSE (train): 0.017522\n",
      "Epoch [4/10], MSE (train): 0.017758\n",
      "Epoch [5/10], MSE (train): 0.016696\n",
      "Epoch [6/10], MSE (train): 0.019698\n",
      "Epoch [7/10], MSE (train): 0.018323\n",
      "Epoch [8/10], MSE (train): 0.018297\n",
      "Epoch [9/10], MSE (train): 0.018759\n",
      "Epoch [10/10], MSE (train): 0.019017\n",
      "MSE (evaluate): 0.031591\n",
      "Training for R+B/B\n",
      "Epoch [1/10], MSE (train): 0.10157\n",
      "Epoch [2/10], MSE (train): 0.14052\n",
      "Epoch [3/10], MSE (train): 0.021763\n",
      "Epoch [4/10], MSE (train): 0.019769\n",
      "Epoch [5/10], MSE (train): 0.016997\n",
      "Epoch [6/10], MSE (train): 0.017063\n",
      "Epoch [7/10], MSE (train): 0.018929\n",
      "Epoch [8/10], MSE (train): 0.017936\n",
      "Epoch [9/10], MSE (train): 0.016788\n",
      "Epoch [10/10], MSE (train): 0.018958\n",
      "MSE (evaluate): 0.063948\n",
      "Training for R+B/R+B\n",
      "Epoch [1/10], MSE (train): 0.035336\n",
      "Epoch [2/10], MSE (train): 0.020594\n",
      "Epoch [3/10], MSE (train): 0.018355\n",
      "Epoch [4/10], MSE (train): 0.018108\n",
      "Epoch [5/10], MSE (train): 0.017106\n",
      "Epoch [6/10], MSE (train): 0.017791\n",
      "Epoch [7/10], MSE (train): 0.017886\n",
      "Epoch [8/10], MSE (train): 0.018251\n",
      "Epoch [9/10], MSE (train): 0.017794\n",
      "Epoch [10/10], MSE (train): 0.017375\n",
      "MSE (evaluate): 0.040662\n"
     ]
    }
   ],
   "source": [
    "train_losses = []\n",
    "test_losses = []\n",
    "\n",
    "for i in range(len(training_sets)):\n",
    "    print(f'Training for {combination_name[i]}')\n",
    "\n",
    "    model = ANNModel(input_size, hidden_sizes, output_size).to(device)\n",
    "  \n",
    "    X_train = training_sets[i][:, :-1].to(device)\n",
    "    Y_train = training_sets[i][:, -1].to(device)\n",
    "    X_test = test_sets[i][:, :-1].to(device)\n",
    "    Y_test = test_sets[i][:, -1].to(device)\n",
    "\n",
    "    # Create dataloaders for training and test sets\n",
    "    train_loader = DataLoader(dataset=TensorDataset(X_train, Y_train), batch_size=batch_size, shuffle=False)\n",
    "    test_loader = DataLoader(dataset=TensorDataset(X_test, Y_test), batch_size=batch_size, shuffle=False)\n",
    "    \n",
    "    # Set the parameters for training and evaluating\n",
    "    criterion = nn.MSELoss()\n",
    "    optimizer = optim.Adam(model.parameters(), lr=learning_rate)\n",
    "    scheduler = optim.lr_scheduler.StepLR(optimizer, step_size=lr_decay_step_size, gamma=lr_decay_gamma)\n",
    "       \n",
    "    # Train the model\n",
    "    train_loss = train(model, train_loader, criterion, optimizer, scheduler, num_epochs=num_epochs)\n",
    "    \n",
    "    # Evaluate the model\n",
    "    test_loss = evaluate(model, test_loader, criterion)\n",
    "\n",
    "    train_losses.append(train_loss)\n",
    "    test_losses.append(test_loss)\n",
    "\n",
    "    "
   ]
  },
  {
   "cell_type": "markdown",
   "metadata": {},
   "source": [
    "### Save train and test losses"
   ]
  },
  {
   "cell_type": "code",
   "execution_count": 81,
   "metadata": {},
   "outputs": [
    {
     "data": {
      "text/plain": [
       "[[0.055851396173238754,\n",
       "  0.03146390616893768,\n",
       "  0.020182941108942032,\n",
       "  0.019996287301182747,\n",
       "  0.018885405734181404,\n",
       "  0.017660344019532204,\n",
       "  0.018898893147706985,\n",
       "  0.019566748291254044,\n",
       "  0.015733106061816216,\n",
       "  0.016671176999807358],\n",
       " [0.02609156258404255,\n",
       "  0.021793244406580925,\n",
       "  0.02037677727639675,\n",
       "  0.018694506958127022,\n",
       "  0.018662653863430023,\n",
       "  0.01789860613644123,\n",
       "  0.01951739564538002,\n",
       "  0.02163201943039894,\n",
       "  0.021458059549331665,\n",
       "  0.022239508107304573],\n",
       " [0.07609204202890396,\n",
       "  0.030811289325356483,\n",
       "  0.024911336600780487,\n",
       "  0.021490707993507385,\n",
       "  0.020918866619467735,\n",
       "  0.020898757502436638,\n",
       "  0.02136234939098358,\n",
       "  0.021240780130028725,\n",
       "  0.022462354972958565,\n",
       "  0.023920945823192596],\n",
       " [0.1559421569108963,\n",
       "  0.06439673155546188,\n",
       "  0.0466219000518322,\n",
       "  0.04225991666316986,\n",
       "  0.04157182574272156,\n",
       "  0.03686901926994324,\n",
       "  0.03653377294540405,\n",
       "  0.037765223532915115,\n",
       "  0.03691764548420906,\n",
       "  0.013527690432965755],\n",
       " [0.031443040817976,\n",
       "  0.019460737705230713,\n",
       "  0.01752213016152382,\n",
       "  0.017757851630449295,\n",
       "  0.016696156933903694,\n",
       "  0.019697681069374084,\n",
       "  0.018322506919503212,\n",
       "  0.018297037109732628,\n",
       "  0.018758809193968773,\n",
       "  0.01901748776435852],\n",
       " [0.10156571865081787,\n",
       "  0.14052200317382812,\n",
       "  0.02176312543451786,\n",
       "  0.019768867641687393,\n",
       "  0.016996711492538452,\n",
       "  0.017063498497009277,\n",
       "  0.018929224461317062,\n",
       "  0.017935825511813164,\n",
       "  0.016788313165307045,\n",
       "  0.018958091735839844],\n",
       " [0.03533601388335228,\n",
       "  0.020594336092472076,\n",
       "  0.01835481822490692,\n",
       "  0.0181084256619215,\n",
       "  0.017106084153056145,\n",
       "  0.01779121346771717,\n",
       "  0.017886368557810783,\n",
       "  0.018250877037644386,\n",
       "  0.0177944116294384,\n",
       "  0.017375467345118523]]"
      ]
     },
     "execution_count": 81,
     "metadata": {},
     "output_type": "execute_result"
    }
   ],
   "source": [
    "train_losses"
   ]
  },
  {
   "cell_type": "code",
   "execution_count": null,
   "metadata": {},
   "outputs": [],
   "source": [
    "train_losses = pd.DataFrame(np.array(train_losses).T, columns=combination_name)"
   ]
  },
  {
   "cell_type": "code",
   "execution_count": 83,
   "metadata": {},
   "outputs": [
    {
     "data": {
      "text/html": [
       "<div>\n",
       "<style scoped>\n",
       "    .dataframe tbody tr th:only-of-type {\n",
       "        vertical-align: middle;\n",
       "    }\n",
       "\n",
       "    .dataframe tbody tr th {\n",
       "        vertical-align: top;\n",
       "    }\n",
       "\n",
       "    .dataframe thead th {\n",
       "        text-align: right;\n",
       "    }\n",
       "</style>\n",
       "<table border=\"1\" class=\"dataframe\">\n",
       "  <thead>\n",
       "    <tr style=\"text-align: right;\">\n",
       "      <th></th>\n",
       "      <th>R/R</th>\n",
       "      <th>B/B</th>\n",
       "      <th>R/B</th>\n",
       "      <th>B/R</th>\n",
       "      <th>R+B/R</th>\n",
       "      <th>R+B/B</th>\n",
       "      <th>R+B/R+B</th>\n",
       "    </tr>\n",
       "  </thead>\n",
       "  <tbody>\n",
       "    <tr>\n",
       "      <th>0</th>\n",
       "      <td>0.055851</td>\n",
       "      <td>0.026092</td>\n",
       "      <td>0.076092</td>\n",
       "      <td>0.155942</td>\n",
       "      <td>0.031443</td>\n",
       "      <td>0.101566</td>\n",
       "      <td>0.035336</td>\n",
       "    </tr>\n",
       "    <tr>\n",
       "      <th>1</th>\n",
       "      <td>0.031464</td>\n",
       "      <td>0.021793</td>\n",
       "      <td>0.030811</td>\n",
       "      <td>0.064397</td>\n",
       "      <td>0.019461</td>\n",
       "      <td>0.140522</td>\n",
       "      <td>0.020594</td>\n",
       "    </tr>\n",
       "    <tr>\n",
       "      <th>2</th>\n",
       "      <td>0.020183</td>\n",
       "      <td>0.020377</td>\n",
       "      <td>0.024911</td>\n",
       "      <td>0.046622</td>\n",
       "      <td>0.017522</td>\n",
       "      <td>0.021763</td>\n",
       "      <td>0.018355</td>\n",
       "    </tr>\n",
       "    <tr>\n",
       "      <th>3</th>\n",
       "      <td>0.019996</td>\n",
       "      <td>0.018695</td>\n",
       "      <td>0.021491</td>\n",
       "      <td>0.042260</td>\n",
       "      <td>0.017758</td>\n",
       "      <td>0.019769</td>\n",
       "      <td>0.018108</td>\n",
       "    </tr>\n",
       "    <tr>\n",
       "      <th>4</th>\n",
       "      <td>0.018885</td>\n",
       "      <td>0.018663</td>\n",
       "      <td>0.020919</td>\n",
       "      <td>0.041572</td>\n",
       "      <td>0.016696</td>\n",
       "      <td>0.016997</td>\n",
       "      <td>0.017106</td>\n",
       "    </tr>\n",
       "    <tr>\n",
       "      <th>5</th>\n",
       "      <td>0.017660</td>\n",
       "      <td>0.017899</td>\n",
       "      <td>0.020899</td>\n",
       "      <td>0.036869</td>\n",
       "      <td>0.019698</td>\n",
       "      <td>0.017063</td>\n",
       "      <td>0.017791</td>\n",
       "    </tr>\n",
       "    <tr>\n",
       "      <th>6</th>\n",
       "      <td>0.018899</td>\n",
       "      <td>0.019517</td>\n",
       "      <td>0.021362</td>\n",
       "      <td>0.036534</td>\n",
       "      <td>0.018323</td>\n",
       "      <td>0.018929</td>\n",
       "      <td>0.017886</td>\n",
       "    </tr>\n",
       "    <tr>\n",
       "      <th>7</th>\n",
       "      <td>0.019567</td>\n",
       "      <td>0.021632</td>\n",
       "      <td>0.021241</td>\n",
       "      <td>0.037765</td>\n",
       "      <td>0.018297</td>\n",
       "      <td>0.017936</td>\n",
       "      <td>0.018251</td>\n",
       "    </tr>\n",
       "    <tr>\n",
       "      <th>8</th>\n",
       "      <td>0.015733</td>\n",
       "      <td>0.021458</td>\n",
       "      <td>0.022462</td>\n",
       "      <td>0.036918</td>\n",
       "      <td>0.018759</td>\n",
       "      <td>0.016788</td>\n",
       "      <td>0.017794</td>\n",
       "    </tr>\n",
       "    <tr>\n",
       "      <th>9</th>\n",
       "      <td>0.016671</td>\n",
       "      <td>0.022240</td>\n",
       "      <td>0.023921</td>\n",
       "      <td>0.013528</td>\n",
       "      <td>0.019017</td>\n",
       "      <td>0.018958</td>\n",
       "      <td>0.017375</td>\n",
       "    </tr>\n",
       "  </tbody>\n",
       "</table>\n",
       "</div>"
      ],
      "text/plain": [
       "        R/R       B/B       R/B       B/R     R+B/R     R+B/B   R+B/R+B\n",
       "0  0.055851  0.026092  0.076092  0.155942  0.031443  0.101566  0.035336\n",
       "1  0.031464  0.021793  0.030811  0.064397  0.019461  0.140522  0.020594\n",
       "2  0.020183  0.020377  0.024911  0.046622  0.017522  0.021763  0.018355\n",
       "3  0.019996  0.018695  0.021491  0.042260  0.017758  0.019769  0.018108\n",
       "4  0.018885  0.018663  0.020919  0.041572  0.016696  0.016997  0.017106\n",
       "5  0.017660  0.017899  0.020899  0.036869  0.019698  0.017063  0.017791\n",
       "6  0.018899  0.019517  0.021362  0.036534  0.018323  0.018929  0.017886\n",
       "7  0.019567  0.021632  0.021241  0.037765  0.018297  0.017936  0.018251\n",
       "8  0.015733  0.021458  0.022462  0.036918  0.018759  0.016788  0.017794\n",
       "9  0.016671  0.022240  0.023921  0.013528  0.019017  0.018958  0.017375"
      ]
     },
     "execution_count": 83,
     "metadata": {},
     "output_type": "execute_result"
    }
   ],
   "source": [
    "train_losses"
   ]
  },
  {
   "cell_type": "code",
   "execution_count": 84,
   "metadata": {},
   "outputs": [
    {
     "data": {
      "text/plain": [
       "[0.029388132511393963,\n",
       " 0.05397803860107201,\n",
       " 0.11234448870519304,\n",
       " 0.252104209984719,\n",
       " 0.03159071174286735,\n",
       " 0.06394775515068112,\n",
       " 0.04066175579033107]"
      ]
     },
     "execution_count": 84,
     "metadata": {},
     "output_type": "execute_result"
    }
   ],
   "source": [
    "test_losses"
   ]
  },
  {
   "cell_type": "code",
   "execution_count": 86,
   "metadata": {},
   "outputs": [
    {
     "data": {
      "text/html": [
       "<div>\n",
       "<style scoped>\n",
       "    .dataframe tbody tr th:only-of-type {\n",
       "        vertical-align: middle;\n",
       "    }\n",
       "\n",
       "    .dataframe tbody tr th {\n",
       "        vertical-align: top;\n",
       "    }\n",
       "\n",
       "    .dataframe thead th {\n",
       "        text-align: right;\n",
       "    }\n",
       "</style>\n",
       "<table border=\"1\" class=\"dataframe\">\n",
       "  <thead>\n",
       "    <tr style=\"text-align: right;\">\n",
       "      <th></th>\n",
       "      <th>R/R</th>\n",
       "      <th>B/B</th>\n",
       "      <th>R/B</th>\n",
       "      <th>B/R</th>\n",
       "      <th>R+B/R</th>\n",
       "      <th>R+B/B</th>\n",
       "      <th>R+B/R+B</th>\n",
       "    </tr>\n",
       "  </thead>\n",
       "  <tbody>\n",
       "    <tr>\n",
       "      <th>0</th>\n",
       "      <td>0.029388</td>\n",
       "      <td>0.053978</td>\n",
       "      <td>0.112344</td>\n",
       "      <td>0.252104</td>\n",
       "      <td>0.031591</td>\n",
       "      <td>0.063948</td>\n",
       "      <td>0.040662</td>\n",
       "    </tr>\n",
       "  </tbody>\n",
       "</table>\n",
       "</div>"
      ],
      "text/plain": [
       "        R/R       B/B       R/B       B/R     R+B/R     R+B/B   R+B/R+B\n",
       "0  0.029388  0.053978  0.112344  0.252104  0.031591  0.063948  0.040662"
      ]
     },
     "execution_count": 86,
     "metadata": {},
     "output_type": "execute_result"
    }
   ],
   "source": [
    "test_losses = pd.DataFrame(np.array(test_losses).reshape(-1, 1).T, columns=combination_name)\n",
    "test_losses"
   ]
  },
  {
   "cell_type": "code",
   "execution_count": 88,
   "metadata": {},
   "outputs": [],
   "source": [
    "train_losses.to_csv('../outputs/train_losses_wrt_datasets.csv', index=None)\n",
    "test_losses.to_csv('../outputs/test_losses_wrt_datasets.csv', index=None)"
   ]
  },
  {
   "cell_type": "markdown",
   "metadata": {},
   "source": [
    "### Save the model state"
   ]
  },
  {
   "cell_type": "code",
   "execution_count": 91,
   "metadata": {},
   "outputs": [],
   "source": [
    "torch.save(model.state_dict(), '../outputs/ann_model_12_5.pth')"
   ]
  },
  {
   "cell_type": "code",
   "execution_count": 95,
   "metadata": {},
   "outputs": [
    {
     "name": "stderr",
     "output_type": "stream",
     "text": [
      "C:\\Users\\KJ\\AppData\\Local\\Temp\\ipykernel_26580\\3595534474.py:1: UserWarning: To copy construct from a tensor, it is recommended to use sourceTensor.clone().detach() or sourceTensor.clone().detach().requires_grad_(True), rather than torch.tensor(sourceTensor).\n",
      "  X_B = torch.tensor(test_B[:, : -1], dtype=torch.float32).to(device)\n",
      "C:\\Users\\KJ\\AppData\\Local\\Temp\\ipykernel_26580\\3595534474.py:2: UserWarning: To copy construct from a tensor, it is recommended to use sourceTensor.clone().detach() or sourceTensor.clone().detach().requires_grad_(True), rather than torch.tensor(sourceTensor).\n",
      "  X_R = torch.tensor(test_R[:, : -1], dtype=torch.float32).to(device)\n"
     ]
    }
   ],
   "source": [
    "X_B = torch.tensor(test_B[:, : -1], dtype=torch.float32).to(device)\n",
    "X_R = torch.tensor(test_R[:, : -1], dtype=torch.float32).to(device)"
   ]
  },
  {
   "cell_type": "code",
   "execution_count": 96,
   "metadata": {},
   "outputs": [],
   "source": [
    "# Set model to evaluation mode\n",
    "model.eval()\n",
    "\n",
    "# Forward pass to get predictions\n",
    "with torch.no_grad():  # Disable gradient tracking\n",
    "    Y_hat_B = model(X_B)\n",
    "    Y_hat_R = model(X_R)\n"
   ]
  },
  {
   "cell_type": "code",
   "execution_count": 101,
   "metadata": {},
   "outputs": [],
   "source": [
    "Y_pred_B = Y_hat_B.cpu().numpy()"
   ]
  },
  {
   "cell_type": "code",
   "execution_count": 102,
   "metadata": {},
   "outputs": [],
   "source": [
    "Y_pred_R = Y_hat_R.cpu().numpy()"
   ]
  },
  {
   "cell_type": "code",
   "execution_count": 149,
   "metadata": {},
   "outputs": [
    {
     "data": {
      "image/png": "[encoded data removed]",
      "text/plain": [
       "<Figure size 800x600 with 1 Axes>"
      ]
     },
     "metadata": {},
     "output_type": "display_data"
    }
   ],
   "source": [
    "plt.figure(figsize=(8, 6))  # Optional: Set the size of the figure\n",
    "\n",
    "plt.scatter(test_B[:, 0]/100, Y_pred_B, s=5, c='red', alpha=0.6, marker='v', linewidths=1.5, label='Bottleneck')\n",
    "plt.scatter(test_R[:, 0]/100, Y_pred_R, s=5, c='blue', alpha=0.5, marker='^', linewidths=1.5, label='Ring')\n",
    "# s: size of the points (can be a scalar or an array)\n",
    "# c: color of the points\n",
    "# alpha: transparency of the points (0 for transparent, 1 for opaque)\n",
    "# marker: marker style (e.g., 'o' for circle, 's' for square, etc.)\n",
    "# edgecolors: color of marker edges\n",
    "# linewidths: thickness of marker edges\n",
    "\n",
    "plt.title('Prediction of ANN model (R+B/R+B)')\n",
    "plt.xlabel('Mean spacing, $\\overline{s}_K$ (m)')\n",
    "plt.ylabel('Predicted speed (m/s)')\n",
    "plt.grid(True)  # Optional: Add gridlines\n",
    "plt.tight_layout()  # Optional: Adjust layout to prevent clipping of labels\n",
    "plt.legend()\n",
    "plt.show()"
   ]
  },
  {
   "cell_type": "code",
   "execution_count": 142,
   "metadata": {},
   "outputs": [
    {
     "data": {
      "text/plain": [
       "(array([0.       , 1.1811918, 0.9771123, ..., 1.126689 , 1.1864178,\n",
       "        0.97275  ], dtype=float32),\n",
       " (27147,))"
      ]
     },
     "execution_count": 142,
     "metadata": {},
     "output_type": "execute_result"
    }
   ],
   "source": [
    "sk_B = test_B[:, 0]/100\n",
    "sk_B = sk_B.cpu().numpy()\n",
    "sk_B, sk_B.shape"
   ]
  },
  {
   "cell_type": "code",
   "execution_count": 132,
   "metadata": {},
   "outputs": [
    {
     "data": {
      "text/plain": [
       "(array([[-0.6487872 ],\n",
       "        [ 0.7881556 ],\n",
       "        [ 0.5144529 ],\n",
       "        ...,\n",
       "        [ 0.7910554 ],\n",
       "        [ 0.94601244],\n",
       "        [ 0.41112083]], dtype=float32),\n",
       " (27147, 1))"
      ]
     },
     "execution_count": 132,
     "metadata": {},
     "output_type": "execute_result"
    }
   ],
   "source": [
    "Y_pred_B, Y_pred_B.shape"
   ]
  },
  {
   "cell_type": "code",
   "execution_count": 163,
   "metadata": {},
   "outputs": [],
   "source": [
    "pred_B = np.column_stack((sk_B, Y_pred_B))\n",
    "\n",
    "# Create a DataFrame\n",
    "dfB = pd.DataFrame(pred_B, columns=['sk', 'pred'])\n",
    "\n",
    "# Save to CSV\n",
    "dfB.to_csv('../outputs/pred_B.csv', index=False)"
   ]
  },
  {
   "cell_type": "code",
   "execution_count": 148,
   "metadata": {},
   "outputs": [
    {
     "name": "stdout",
     "output_type": "stream",
     "text": [
      "Fitted parameters:\n",
      "v0_B = 2.6742090783751093\n",
      "l_B = 0.37228782061362825\n",
      "T_B = 1.0696110455256351\n"
     ]
    }
   ],
   "source": [
    "from scipy.optimize import curve_fit\n",
    "\n",
    "\n",
    "# Example data (replace with your actual data)\n",
    "sk_data = sk_B\n",
    "v_data = Y_pred_B.reshape(-1,)\n",
    "\n",
    "# Initial guess for parameters (v0, l, T)\n",
    "initial_guess = (1.5, 0.6, 0.7)\n",
    "\n",
    "# Perform curve fitting\n",
    "params, covariance = curve_fit(weidmann_model, sk_data, v_data, p0=initial_guess)\n",
    "\n",
    "# Extract fitted parameters\n",
    "v0_fit_B, l_fit_B, T_fit_B = params\n",
    "\n",
    "# Print fitted parameters\n",
    "print(\"Fitted parameters:\")\n",
    "print(f\"v0_B = {v0_fit_B}\")\n",
    "print(f\"l_B = {l_fit_B}\")\n",
    "print(f\"T_B = {T_fit_B}\")"
   ]
  },
  {
   "cell_type": "code",
   "execution_count": 145,
   "metadata": {},
   "outputs": [
    {
     "data": {
      "text/plain": [
       "(array([0.        , 0.9860785 , 0.67726296, ..., 0.76856047, 1.540321  ,\n",
       "        0.8340692 ], dtype=float32),\n",
       " (101516,))"
      ]
     },
     "execution_count": 145,
     "metadata": {},
     "output_type": "execute_result"
    }
   ],
   "source": [
    "sk_R = test_R[:, 0]/100\n",
    "sk_R = sk_R.cpu().numpy()\n",
    "sk_R, sk_R.shape"
   ]
  },
  {
   "cell_type": "code",
   "execution_count": 146,
   "metadata": {},
   "outputs": [
    {
     "data": {
      "text/plain": [
       "(array([[-0.6487872 ],\n",
       "        [ 0.19180942],\n",
       "        [ 0.1800335 ],\n",
       "        ...,\n",
       "        [ 0.22080112],\n",
       "        [ 1.3519688 ],\n",
       "        [ 0.2299084 ]], dtype=float32),\n",
       " (101516, 1))"
      ]
     },
     "execution_count": 146,
     "metadata": {},
     "output_type": "execute_result"
    }
   ],
   "source": [
    "Y_pred_R, Y_pred_R.shape"
   ]
  },
  {
   "cell_type": "code",
   "execution_count": 164,
   "metadata": {},
   "outputs": [],
   "source": [
    "pred_R = np.column_stack((sk_R, Y_pred_R))\n",
    "\n",
    "# Create a DataFrame\n",
    "dfR = pd.DataFrame(pred_R, columns=['sk', 'pred'])\n",
    "\n",
    "# Save to CSV\n",
    "dfR.to_csv('../outputs/pred_R.csv', index=False)"
   ]
  },
  {
   "cell_type": "code",
   "execution_count": 147,
   "metadata": {},
   "outputs": [
    {
     "name": "stdout",
     "output_type": "stream",
     "text": [
      "Fitted parameters:\n",
      "v0_R = 1.9411310682134728\n",
      "l_R = 0.584684091106252\n",
      "T_R = 0.8100652611585263\n"
     ]
    }
   ],
   "source": [
    "# Example data (replace with your actual data)\n",
    "sk_data = sk_R\n",
    "v_data = Y_pred_R.reshape(-1,)\n",
    "\n",
    "# Initial guess for parameters (v0, l, T)\n",
    "initial_guess = (1.5, 0.6, 0.7)\n",
    "\n",
    "# Perform curve fitting\n",
    "params, covariance = curve_fit(weidmann_model, sk_data, v_data, p0=initial_guess)\n",
    "\n",
    "# Extract fitted parameters\n",
    "v0_fit_R, l_fit_R, T_fit_R = params\n",
    "\n",
    "# Print fitted parameters\n",
    "print(\"Fitted parameters:\")\n",
    "print(f\"v0_R = {v0_fit_R}\")\n",
    "print(f\"l_R = {l_fit_R}\")\n",
    "print(f\"T_R = {T_fit_R}\")"
   ]
  },
  {
   "cell_type": "code",
   "execution_count": 162,
   "metadata": {},
   "outputs": [
    {
     "data": {
      "image/png": "[encoded data removed]",
      "text/plain": [
       "<Figure size 800x600 with 1 Axes>"
      ]
     },
     "metadata": {},
     "output_type": "display_data"
    }
   ],
   "source": [
    "# Generate smooth curve based on fitted parameters\n",
    "sk_smooth_B = np.linspace(min(sk_B), max(sk_B), 100)\n",
    "v_smooth_B = weidmann_model(sk_smooth_B, v0_fit_B, l_fit_B, T_fit_B)\n",
    "\n",
    "sk_smooth_R = np.linspace(min(sk_R), max(sk_R), 100)\n",
    "v_smooth_R = weidmann_model(sk_smooth_R, v0_fit_R, l_fit_R, T_fit_R)\n",
    "\n",
    "# Plotting the original data and fitted curve\n",
    "plt.figure(figsize=(8, 6))\n",
    "plt.scatter(sk_B, Y_pred_B.reshape(-1,), s=5, c='red', alpha=0.5, marker='v', label='Predicted speed for Bottleneck')\n",
    "plt.plot(sk_smooth_B, v_smooth_B, c='orange', alpha=1, label='Fitted curve for Bottleneck')\n",
    "\n",
    "plt.scatter(sk_R, Y_pred_R.reshape(-1,), s=5, c='blue', alpha=0.25, marker='^', label='Predicted speed for Ring')\n",
    "plt.plot(sk_smooth_R, v_smooth_R, c='green', alpha=1, label='Fitted curve for Ring')\n",
    "\n",
    "plt.title('Prediction of ANN model (R+B/R+B)')\n",
    "plt.xlabel('Mean spacing, $s_k$ (m)')\n",
    "plt.ylabel('Predicted speed, $v$ (m/s)')\n",
    "plt.legend()\n",
    "plt.grid(True)\n",
    "plt.tight_layout()\n",
    "\n",
    "plt.show()"
   ]
  }
 ],
 "metadata": {
  "kernelspec": {
   "display_name": "MLCMS",
   "language": "python",
   "name": "mlcms"
  },
  "language_info": {
   "codemirror_mode": {
    "name": "ipython",
    "version": 3
   },
   "file_extension": ".py",
   "mimetype": "text/x-python",
   "name": "python",
   "nbconvert_exporter": "python",
   "pygments_lexer": "ipython3",
   "version": "3.11.9"
  }
 },
 "nbformat": 4,
 "nbformat_minor": 2
}
